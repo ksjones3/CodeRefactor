{
 "cells": [
  {
   "cell_type": "markdown",
   "id": "87735cbe",
   "metadata": {},
   "source": [
    "## Required Packages"
   ]
  },
  {
   "cell_type": "code",
   "execution_count": 1,
   "id": "47f0bae2",
   "metadata": {
    "tags": []
   },
   "outputs": [],
   "source": [
    "import numpy as np\n",
    "import h5py\n",
    "#Import python packages"
   ]
  },
  {
   "cell_type": "code",
   "execution_count": 2,
   "id": "9439e290-1703-4d45-a355-eddbbb935a96",
   "metadata": {},
   "outputs": [],
   "source": [
    "from ipynb.fs.full.GeneralFunctions import writeH5File, readH5File, sampleDataTraining, createRandomIndices, randomize2DArray, randomizeEdges, createEdgeArrays, sampleDataTesting, hdf5_to_dict, indices_of_edges, pairs_of_edges, sorting_indices, sortList, create_train_set_test_set, scaling_of_features, reshapeFeatures"
   ]
  },
  {
   "cell_type": "code",
   "execution_count": 3,
   "id": "09ed6a2f-6cff-4ff2-a5d1-d0b9b060b110",
   "metadata": {},
   "outputs": [],
   "source": [
    "def scalingDataPreparation(rangeValue, splitNum, mapping, outputDirectory, suffix):\n",
    "    total_training_indices, total_truth_training, edgeTestingDictionary, total_testing_indices, total_truth_testing, sorted_cluster_cluster_pairNumber_indices = makeTruthAndData(splitNum, mapping, outputDirectory, suffix)\n",
    "    makeEdgeFiles(total_training_indices, total_testing_indices, total_truth_training, total_truth_testing, edgeTestingDictionary, outputDirectory, suffix)    \n",
    "    makeScaledFeatures(rangeValue, splitNum, sorted_cluster_cluster_pairNumber_indices, outputDirectory, suffix)"
   ]
  },
  {
   "cell_type": "code",
   "execution_count": 4,
   "id": "8f4eed0f-5476-4362-9a3b-fb9547503c8d",
   "metadata": {},
   "outputs": [],
   "source": [
    "def makeScaledFeatures(rangeValue, splitNum, sorted_cluster_cluster_pairNumber_indices, outputDirectory, suffix):\n",
    "    dynamic_variables = makeDynamicVariables(suffix, outputDirectory, rangeValue)\n",
    "    scaleFeatures(dynamic_variables, splitNum, sorted_cluster_cluster_pairNumber_indices, outputDirectory, suffix)"
   ]
  },
  {
   "cell_type": "code",
   "execution_count": 5,
   "id": "993b5266-0cf7-44f1-a1ae-27875285e1c1",
   "metadata": {},
   "outputs": [],
   "source": [
    "def makeEdgeFiles(total_training_indices, total_testing_indices, total_truth_training, total_truth_testing, edgeTestingDictionary, outputDirectory, suffix):\n",
    "    total_training_indices_rand = randomizeData(total_training_indices, total_truth_training, \"train\", outputDirectory, suffix)\n",
    "    total_testing_indices_rand = randomizeData(total_testing_indices, total_truth_testing, \"test\", outputDirectory, suffix)\n",
    "\n",
    "    neighbor_pairs_unique_sorted= readH5File(outputDirectory+\"/neighbor_pairs_unique_sorted\"+suffix+\".hdf5\", \"neighbor_pair\")\n",
    "\n",
    "    makeAndWriteEdges(neighbor_pairs_unique_sorted, total_training_indices_rand, \"train\", \"total\", outputDirectory, suffix)\n",
    "    makeAndWriteTestingEdges(neighbor_pairs_unique_sorted, edgeTestingDictionary, total_testing_indices_rand, outputDirectory, suffix) "
   ]
  },
  {
   "cell_type": "code",
   "execution_count": 6,
   "id": "0ada9bfe-d544-4850-88ec-6c422ac7f963",
   "metadata": {},
   "outputs": [],
   "source": [
    "def makeAndWriteTestingEdges(neighbor_pairs_unique_sorted, edgeTestingDictionary, total_testing_indices_rand, outputDirectory, suffix):\n",
    "    edgeType = [\"true\", \"bkg_lone\", \"bkg_cluster_lone\", \"bkg_lone_cluster\", \"bkg_cluster_cluster\"]\n",
    "    for i in range(len(edgeType)):\n",
    "        makeAndWriteEdges(neighbor_pairs_unique_sorted, edgeTestingDictionary[edgeType[i]], \"test\", edgeType[i], outputDirectory, suffix)\n",
    "    makeAndWriteEdges(neighbor_pairs_unique_sorted, total_testing_indices_rand, \"test\", \"total\", outputDirectory, suffix)"
   ]
  },
  {
   "cell_type": "code",
   "execution_count": 7,
   "id": "cd61e0ae-ac7a-4ec1-90c8-6d224585f948",
   "metadata": {},
   "outputs": [],
   "source": [
    "def scaleFeatures(dynamic_variables, splitNum, sorted_cluster_cluster_pairNumber_indices, outputDirectory, suffix):\n",
    "    cellFeatures_trainS, cellFeatures_testS = scaling_of_features(dynamic_variables, splitNum, sorted_cluster_cluster_pairNumber_indices, outputDirectory+\"/scaler_neighbor_data\"+suffix+\".save\")\n",
    "    cellFeatures_trainS_reshape = reshapeFeatures(splitNum, cellFeatures_trainS)\n",
    "    cellFeatures_testS_reshape = reshapeFeatures(len(sorted_cluster_cluster_pairNumber_indices)-splitNum, cellFeatures_testS)\n",
    "\n",
    "    writeH5File(outputDirectory+'/cellFeaturesScaled_train'+suffix+'.hdf5', \"cellFeatures_trainS\", cellFeatures_trainS_reshape)\n",
    "    print(\"Wrote training scaled features to: \"+outputDirectory+\"/cellFeaturesScaled_train\"+suffix+\".hdf5\")\n",
    "    writeH5File(outputDirectory+'/cellFeaturesScaled_test'+suffix+'.hdf5', \"cellFeatures_testS\", cellFeatures_testS_reshape)\n",
    "    print(\"Wrote testing scaled features to: \"+outputDirectory+\"/cellFeaturesScaled_test\"+suffix+\".hdf5\")"
   ]
  },
  {
   "cell_type": "code",
   "execution_count": 8,
   "id": "699edb75-9d52-48d4-82c7-b0088d4289a6",
   "metadata": {},
   "outputs": [],
   "source": [
    "def makeAndWriteEdges(neighbor_pairs_unique_sorted, indices, trainingOrTesting, edgeType, outputDirectory, suffix):\n",
    "    edges = randomizeEdges(indices, neighbor_pairs_unique_sorted)\n",
    "\n",
    "    edgeDictionary = createEdgeArrays(edges)\n",
    "\n",
    "    writeEdges(edgeDictionary, trainingOrTesting, edgeType, outputDirectory, suffix)"
   ]
  },
  {
   "cell_type": "code",
   "execution_count": 9,
   "id": "e58068f0-4df5-481e-842e-1cb1643a5bd5",
   "metadata": {},
   "outputs": [],
   "source": [
    "def writeEdges(edgeDictionary, trainingOrTesting, edgeType, outputDirectory, suffix):\n",
    "    data = [edgeDictionary[\"source_BD\"], edgeDictionary[\"dest_BD\"], edgeDictionary[\"source_noBD\"], edgeDictionary[\"dest_noBD\"]]\n",
    "    sourceOrDest = [\"source\", \"dest\", \"source\", \"dest\"]\n",
    "    BDOrnoBD = [\"BD\", \"BD\", \"noBD\", \"noBD\"]\n",
    "    for i in range(len(data)):\n",
    "        writeEdge(data[i], trainingOrTesting, sourceOrDest[i], BDOrnoBD[i], edgeType, outputDirectory, suffix)"
   ]
  },
  {
   "cell_type": "code",
   "execution_count": 10,
   "id": "14926151-858d-48f9-a276-9c59e9f839ba",
   "metadata": {},
   "outputs": [],
   "source": [
    "def writeEdge(edge, trainingOrTesting, sourceOrDest, BDOrnoBD, edgeType, outputDirectory, suffix):\n",
    "    writeH5File(outputDirectory+'/'+trainingOrTesting+'_edge_'+sourceOrDest+'_'+edgeType+'_'+BDOrnoBD+suffix+'.hdf5', trainingOrTesting+\"_edge_\" +sourceOrDest+\"_\"+BDOrnoBD, edge)\n",
    "    print(\"Wrote \"+trainingOrTesting+\"ing \"+sourceOrDest+\" \"+edgeType+\" \"+BDOrnoBD+\" files to: \"+outputDirectory+\"/\"+trainingOrTesting+\"_edge_\"+sourceOrDest+\"_\"+BDOrnoBD+suffix+\".hdf5\")"
   ]
  },
  {
   "cell_type": "code",
   "execution_count": 11,
   "id": "70b565f4-5ebd-455f-9b68-83a4bfe6ef8b",
   "metadata": {},
   "outputs": [],
   "source": [
    "def randomizeData(total_indices, total_truth, trainingOrTesting, outputDirectory, suffix):\n",
    "    rand_index = createRandomIndices(total_indices.shape)\n",
    "\n",
    "    total_indices_rand = randomize2DArray(rand_index, total_indices)\n",
    "    total_truth_rand = randomize2DArray(rand_index, total_truth)\n",
    "    writeH5File(outputDirectory+'/truth_label_'+trainingOrTesting+suffix+'.hdf5', \"truth_label_\"+trainingOrTesting, total_truth_rand)\n",
    "    print(\"Wrote \"+trainingOrTesting+ \" truth labels to file: \"+outputDirectory+\"/truth_label_\"+trainingOrTesting+suffix+\".hdf5\")\n",
    "    return total_indices_rand"
   ]
  },
  {
   "cell_type": "code",
   "execution_count": 12,
   "id": "7970b753-c83a-4778-adfd-19acd50c49db",
   "metadata": {},
   "outputs": [],
   "source": [
    "def makeTruthAndData(splitNum, mapping, outputDirectory, suffix):\n",
    "    edgeDictionary, pairNumberDictionary, sorted_cluster_cluster_pairNumber_indices = makePairNumberAndIndices(suffix, outputDirectory, mapping)\n",
    "    pairNumberDictionaryTraining, pairNumberDictionaryTesting = create_train_set_test_set(splitNum, pairNumberDictionary)\n",
    "    edgeDictionaryTraining, edgeDictionaryTesting = create_train_set_test_set(splitNum, edgeDictionary)\n",
    "    \n",
    "    edgeDictionarySampledTraining, total_training_indices, total_truth_training = makeDataSamples(edgeDictionaryTraining, True)\n",
    "    edgeDictionarySampledTesting, total_testing_indices, total_truth_testing = makeDataSamples(edgeDictionaryTesting, False)\n",
    "    return total_training_indices, total_truth_training, edgeDictionarySampledTesting, total_testing_indices, total_truth_testing, sorted_cluster_cluster_pairNumber_indices"
   ]
  },
  {
   "cell_type": "code",
   "execution_count": 13,
   "id": "5b0c0065-1987-4ee6-a7e0-851c616a453a",
   "metadata": {},
   "outputs": [],
   "source": [
    "def makeDataSamples(dictionary, training):\n",
    "    sampledDictionary, bkg_total = makeTruthAndBackground(dictionary, training)\n",
    "    total_indices, total_truth = makeIndicesAndTruth(sampledDictionary[\"true\"], bkg_total)\n",
    "    return sampledDictionary, total_indices, total_truth"
   ]
  },
  {
   "cell_type": "code",
   "execution_count": 14,
   "id": "ce3024ca-8c4e-4673-a8e6-14a8a1afac40",
   "metadata": {},
   "outputs": [],
   "source": [
    "def makePairNumberAndIndices(suffix, outputDirectory, mapping):\n",
    "    neighbor_truth = readH5File(outputDirectory+\"/neighbor_truth\"+suffix+\".hdf5\", \"neighbor_truth\")\n",
    "    neighborTruthRangeValue = len(neighbor_truth)\n",
    "    edgeDictionary = indices_of_edges(neighborTruthRangeValue, mapping, neighbor_truth)\n",
    "    pairNumberDictionary = pairs_of_edges(neighborTruthRangeValue, edgeDictionary)\n",
    "    sortedPairNumberDictionary, sorted_cluster_cluster_pairNumber_indices = sorting_indices(pairNumberDictionary[\"bkg_cluster_cluster\"], pairNumberDictionary)\n",
    "    sortedEdgeDictionary = sortData(edgeDictionary, sorted_cluster_cluster_pairNumber_indices)\n",
    "    return sortedEdgeDictionary, sortedPairNumberDictionary, sorted_cluster_cluster_pairNumber_indices"
   ]
  },
  {
   "cell_type": "code",
   "execution_count": 15,
   "id": "4c4ad51b-5d32-48e9-a5ec-938b25995766",
   "metadata": {},
   "outputs": [],
   "source": [
    "def makeTruthAndBackground(dictionary, training):\n",
    "    if training:\n",
    "        sampleDictionary = sampleDataTraining(dictionary)\n",
    "    else:\n",
    "        sampleDictionary = sampleDataTesting(dictionary)\n",
    "    bkg_total = np.concatenate((sampleDictionary[\"bkg_lone\"], sampleDictionary[\"bkg_cluster_lone\"], sampleDictionary[\"bkg_lone_cluster\"], sampleDictionary[\"bkg_cluster_cluster\"]), axis =1)\n",
    "    return sampleDictionary, bkg_total"
   ]
  },
  {
   "cell_type": "code",
   "execution_count": 16,
   "id": "9a67b786-3855-47a3-b2c4-0629f2d1e459",
   "metadata": {},
   "outputs": [],
   "source": [
    "def sortData(edgeDictionary, sorted_cluster_cluster_pairNumber_indices):\n",
    "    keys = edgeDictionary.keys()\n",
    "    sortedEdgeDictionary = {}\n",
    "    for key in keys:\n",
    "        sortedEdgeDictionary[key] = sortList(edgeDictionary[key], sorted_cluster_cluster_pairNumber_indices)\n",
    "    return sortedEdgeDictionary"
   ]
  },
  {
   "cell_type": "code",
   "execution_count": 17,
   "id": "e219e661-2ed1-42e1-bf67-2183c87fb515",
   "metadata": {},
   "outputs": [],
   "source": [
    "def makeIndicesAndTruth(true, bkg_total):\n",
    "    bkg_truth = np.zeros(bkg_total.shape, dtype=int)\n",
    "    true_truth = np.ones(true.shape, dtype=int)\n",
    "\n",
    "    total_truth = np.concatenate((true_truth,bkg_truth), axis =1)\n",
    "\n",
    "    total_indices = np.concatenate((true,bkg_total), axis =1)\n",
    "    return total_indices, total_truth"
   ]
  },
  {
   "cell_type": "code",
   "execution_count": 18,
   "id": "5667fbaf-2fa3-449f-9147-eb22b6a4c93e",
   "metadata": {},
   "outputs": [],
   "source": [
    "def makeDynamicVariables(suffix, outputDirectory, rangeValue):\n",
    "    data_dict = openDataDict(suffix, outputDirectory)\n",
    "    dynamic_variables = {}\n",
    "\n",
    "    # Generate variable names dynamically and assign values to them\n",
    "    for i in range(rangeValue):\n",
    "        var_name = f\"data_{i}\"\n",
    "        dynamic_variables[var_name] = data_dict[var_name]\n",
    "    return dynamic_variables"
   ]
  },
  {
   "cell_type": "code",
   "execution_count": 19,
   "id": "7e1660ff-15e0-4703-9af3-bee3ce3ab115",
   "metadata": {},
   "outputs": [],
   "source": [
    "def openDataDict(suffix, outputDirectory):\n",
    "    with h5py.File(outputDirectory+'/cellFeatures'+suffix+'.hdf5', 'r') as f:\n",
    "        # Convert HDF5 to dictionary\n",
    "        data_dict = hdf5_to_dict(f)\n",
    "    f.close()\n",
    "    return data_dict"
   ]
  },
  {
   "cell_type": "code",
   "execution_count": 20,
   "id": "c8f21cb8-a27d-4f16-b78b-69fb495d647c",
   "metadata": {},
   "outputs": [
    {
     "name": "stdout",
     "output_type": "stream",
     "text": [
      "Wrote train truth labels to file: ./truth_label_train_100evsAll2D.hdf5\n",
      "Wrote test truth labels to file: ./truth_label_test_100evsAll2D.hdf5\n",
      "Wrote training source total BD files to: ./train_edge_source_BD_100evsAll2D.hdf5\n",
      "Wrote training dest total BD files to: ./train_edge_dest_BD_100evsAll2D.hdf5\n",
      "Wrote training source total noBD files to: ./train_edge_source_noBD_100evsAll2D.hdf5\n",
      "Wrote training dest total noBD files to: ./train_edge_dest_noBD_100evsAll2D.hdf5\n",
      "Wrote testing source true BD files to: ./test_edge_source_BD_100evsAll2D.hdf5\n",
      "Wrote testing dest true BD files to: ./test_edge_dest_BD_100evsAll2D.hdf5\n",
      "Wrote testing source true noBD files to: ./test_edge_source_noBD_100evsAll2D.hdf5\n",
      "Wrote testing dest true noBD files to: ./test_edge_dest_noBD_100evsAll2D.hdf5\n",
      "Wrote testing source bkg_lone BD files to: ./test_edge_source_BD_100evsAll2D.hdf5\n",
      "Wrote testing dest bkg_lone BD files to: ./test_edge_dest_BD_100evsAll2D.hdf5\n",
      "Wrote testing source bkg_lone noBD files to: ./test_edge_source_noBD_100evsAll2D.hdf5\n",
      "Wrote testing dest bkg_lone noBD files to: ./test_edge_dest_noBD_100evsAll2D.hdf5\n",
      "Wrote testing source bkg_cluster_lone BD files to: ./test_edge_source_BD_100evsAll2D.hdf5\n",
      "Wrote testing dest bkg_cluster_lone BD files to: ./test_edge_dest_BD_100evsAll2D.hdf5\n",
      "Wrote testing source bkg_cluster_lone noBD files to: ./test_edge_source_noBD_100evsAll2D.hdf5\n",
      "Wrote testing dest bkg_cluster_lone noBD files to: ./test_edge_dest_noBD_100evsAll2D.hdf5\n",
      "Wrote testing source bkg_lone_cluster BD files to: ./test_edge_source_BD_100evsAll2D.hdf5\n",
      "Wrote testing dest bkg_lone_cluster BD files to: ./test_edge_dest_BD_100evsAll2D.hdf5\n",
      "Wrote testing source bkg_lone_cluster noBD files to: ./test_edge_source_noBD_100evsAll2D.hdf5\n",
      "Wrote testing dest bkg_lone_cluster noBD files to: ./test_edge_dest_noBD_100evsAll2D.hdf5\n",
      "Wrote testing source bkg_cluster_cluster BD files to: ./test_edge_source_BD_100evsAll2D.hdf5\n",
      "Wrote testing dest bkg_cluster_cluster BD files to: ./test_edge_dest_BD_100evsAll2D.hdf5\n",
      "Wrote testing source bkg_cluster_cluster noBD files to: ./test_edge_source_noBD_100evsAll2D.hdf5\n",
      "Wrote testing dest bkg_cluster_cluster noBD files to: ./test_edge_dest_noBD_100evsAll2D.hdf5\n",
      "Wrote testing source total BD files to: ./test_edge_source_BD_100evsAll2D.hdf5\n",
      "Wrote testing dest total BD files to: ./test_edge_dest_BD_100evsAll2D.hdf5\n",
      "Wrote testing source total noBD files to: ./test_edge_source_noBD_100evsAll2D.hdf5\n",
      "Wrote testing dest total noBD files to: ./test_edge_dest_noBD_100evsAll2D.hdf5\n",
      "Wrote training scaled features to: ./cellFeaturesScaled_train_100evsAll2D.hdf5\n",
      "Wrote testing scaled features to: ./cellFeaturesScaled_test_100evsAll2D.hdf5\n"
     ]
    }
   ],
   "source": [
    "scalingDataPreparation(100, 70, (0, 2, 3, 4), \".\", \"_100evsAll2D\")"
   ]
  },
  {
   "cell_type": "markdown",
   "id": "13d83828",
   "metadata": {},
   "source": [
    "## Reading and arranging data "
   ]
  },
  {
   "cell_type": "code",
   "execution_count": 3,
   "id": "ebca3ac6",
   "metadata": {
    "tags": []
   },
   "outputs": [],
   "source": [
    "# cell features of 100 events (100 X 180k)\n",
    "with h5py.File('./cellFeatures_100evsAll2D.hdf5', 'r') as f:\n",
    "    # Convert HDF5 to dictionary\n",
    "    data_dict = hdf5_to_dict(f)\n",
    "#Calls the methods to open the hdf5 file and save it to a data dictionary."
   ]
  },
  {
   "cell_type": "code",
   "execution_count": 4,
   "id": "c6186f13",
   "metadata": {
    "tags": []
   },
   "outputs": [],
   "source": [
    "f.close()\n",
    "#Closes the hdf5 file."
   ]
  },
  {
   "cell_type": "code",
   "execution_count": 5,
   "id": "fe7e1589",
   "metadata": {
    "tags": []
   },
   "outputs": [],
   "source": [
    "# storing 100 events as dict data_0, data_1 ... data_599 not sure why I am doing this\n",
    "dynamic_variables = {}\n",
    "\n",
    "# Generate variable names dynamically and assign values to them\n",
    "for i in range(100):\n",
    "    var_name = f\"data_{i}\"\n",
    "    dynamic_variables[var_name] = data_dict[var_name]\n",
    "#Transfer the data to a dictionary called dynamic_variables. I’m not sure why he is doing this."
   ]
  },
  {
   "cell_type": "code",
   "execution_count": 6,
   "id": "269328c6",
   "metadata": {
    "tags": []
   },
   "outputs": [],
   "source": [
    "# alligning data feature wise for scaling\n",
    "data_100 = np.concatenate([value for key, value in list(dynamic_variables.items())])\n",
    "#Concatenates the data dictionary into a single array called data_100."
   ]
  },
  {
   "cell_type": "code",
   "execution_count": 7,
   "id": "fa0da959",
   "metadata": {
    "tags": []
   },
   "outputs": [
    {
     "data": {
      "text/plain": [
       "(18765200, 8)"
      ]
     },
     "execution_count": 7,
     "metadata": {},
     "output_type": "execute_result"
    }
   ],
   "source": [
    "data_100.shape\n",
    "#Checks the shape of data_100."
   ]
  },
  {
   "cell_type": "code",
   "execution_count": 8,
   "id": "7c4fc188",
   "metadata": {
    "tags": []
   },
   "outputs": [],
   "source": [
    "# truth labels for each neighbour edges\n",
    "neighbor_truth_100evs = readH5File(\"./neighbor_truth_100evs_all2D.hdf5\", \"neighbor_truth_100evs\")\n",
    "#Pulls the neighbor truth data from the hdf5 file."
   ]
  },
  {
   "cell_type": "code",
   "execution_count": 9,
   "id": "bebb894b",
   "metadata": {
    "tags": []
   },
   "outputs": [
    {
     "data": {
      "text/plain": [
       "array([1, 1, 1, ..., 0, 0, 0])"
      ]
     },
     "execution_count": 9,
     "metadata": {},
     "output_type": "execute_result"
    }
   ],
   "source": [
    "neighbor_truth_100evs[99]\n",
    "#Checks the shape of the neighbor truth array."
   ]
  },
  {
   "cell_type": "markdown",
   "id": "d367cb0c",
   "metadata": {},
   "source": [
    "## Collecting indices of neighbour edges based on truth (1,9,10,0)"
   ]
  },
  {
   "cell_type": "code",
   "execution_count": 10,
   "id": "7af66115",
   "metadata": {
    "tags": []
   },
   "outputs": [
    {
     "name": "stdout",
     "output_type": "stream",
     "text": [
      "[1 1 1 ... 0 0 0]\n"
     ]
    }
   ],
   "source": [
    "rangeValue = len(neighbor_truth_100evs)\n",
    "print(neighbor_truth_100evs[rangeValue-1])\n",
    "true, bkg_lone, bkg_cluster_lone, bkg_lone_cluster, bkg_cluster_cluster = indices_of_edges(rangeValue, neighbor_truth_100evs)\n",
    "\n",
    "#Creates arrays for true, bkg_lone, bkg_cluster_lone, bkg_cluster_cluster. The first is for pairs where both are part of a cluster. I’m not sure what\n",
    "#the others are, but I believe they have to do with whether the pairs contain some combo of background cells and cluster cells, or false cells that are\n",
    "#still part of a cluster. They then populate these arrays with data from neighbor_truth array."
   ]
  },
  {
   "cell_type": "markdown",
   "id": "f34beaa6",
   "metadata": {},
   "source": [
    "## Collecting length of each edge (true, bkg_lone, bkg_cluster_lone, bkg_cluster_cluster)"
   ]
  },
  {
   "cell_type": "code",
   "execution_count": 11,
   "id": "c4f79639",
   "metadata": {
    "tags": []
   },
   "outputs": [],
   "source": [
    "# checking length is important since its complicated to deal with awkward arrays\n",
    "# try make sample as n x m matrix (so n: events, m: true/bkg samples)\n",
    "\n",
    "true_pairNumber, bkg_lone_pairNumber, bkg_cluster_lone_pairNumber, bkg_lone_cluster_pairNumber, bkg_cluster_cluster_pairNumber = pairs_of_edges(rangeValue, true, bkg_lone, bkg_cluster_lone, bkg_lone_cluster, bkg_cluster_cluster)\n",
    "#Makes arrays that store the length of the number of pairs stored in each of the events in the arrays from the previous cell. It then populates these\n",
    "#arrays with the appropriate data."
   ]
  },
  {
   "cell_type": "markdown",
   "id": "f0c02183",
   "metadata": {},
   "source": [
    "## Sorting all len arrays in Dscennding order of cluster_cluster bkg sample"
   ]
  },
  {
   "cell_type": "code",
   "execution_count": 12,
   "id": "a66dd9bb",
   "metadata": {
    "tags": []
   },
   "outputs": [],
   "source": [
    "# Rearranging all edge/pair samples of 100 events based on cluster_cluster sample len\n",
    "true_pairNumber_sorted, bkg_lone_pairNumber_sorted, bkg_cluster_lone_pairNumber_sorted, bkg_lone_cluster_pairNumber_sorted, bkg_cluster_cluster_pairNumber_sorted, sorted_cluster_cluster_pairNumber_indices = sorting_indices(bkg_cluster_cluster_pairNumber, true_pairNumber, bkg_lone_pairNumber, bkg_cluster_lone_pairNumber, bkg_lone_cluster_pairNumber, bkg_cluster_cluster_pairNumber)\n",
    "#Sorts all of the length arrays using the indices found in cell 15 and saves them as new sorted arrays."
   ]
  },
  {
   "cell_type": "code",
   "execution_count": 13,
   "id": "c4c0739e-ce94-4a5c-a7db-83fb629eb1df",
   "metadata": {
    "tags": []
   },
   "outputs": [],
   "source": [
    "# Rearranging all edge/pair samples of 100 events based on cluster_cluster sample len\n",
    "true_sorted = sortList(true, sorted_cluster_cluster_pairNumber_indices)\n",
    "bkg_lone_sorted = sortList(bkg_lone, sorted_cluster_cluster_pairNumber_indices)\n",
    "bkg_cluster_lone_sorted = sortList(bkg_cluster_lone, sorted_cluster_cluster_pairNumber_indices)\n",
    "bkg_lone_cluster_sorted = sortList(bkg_lone_cluster, sorted_cluster_cluster_pairNumber_indices)\n",
    "bkg_cluster_cluster_sorted = sortList(bkg_cluster_cluster, sorted_cluster_cluster_pairNumber_indices)\n",
    "#Sorts all of the arrays created in cell 12 using the cell 15 indices and saves them as new sorted arrays."
   ]
  },
  {
   "cell_type": "code",
   "execution_count": 14,
   "id": "1737e413-c80e-4fb0-b475-5b85a7ea4db6",
   "metadata": {
    "tags": []
   },
   "outputs": [],
   "source": [
    "splitNum = 70\n",
    "true_pairNumber_sorted_70, bkg_lone_pairNumber_sorted_70, bkg_cluster_lone_pairNumber_sorted_70, bkg_lone_cluster_pairNumber_sorted_70, bkg_cluster_cluster_pairNumber_sorted_70, true_pairNumber_sorted_30, bkg_lone_pairNumber_sorted_30, bkg_cluster_lone_pairNumber_sorted_30, bkg_lone_cluster_pairNumber_sorted_30, bkg_cluster_cluster_pairNumber_sorted_30 = create_train_set_test_set(splitNum, true_pairNumber, bkg_lone_pairNumber, bkg_cluster_lone_pairNumber, bkg_lone_cluster_pairNumber, bkg_cluster_cluster_pairNumber)  \n",
    "#Creates new arrays that represent training and testing length datasets made from the arrays made in cell 16. The training data is 70% of the data,\n",
    "#and the testing set is 30% of the data."
   ]
  },
  {
   "cell_type": "code",
   "execution_count": 15,
   "id": "a3448eaa-1411-421e-be5a-356f1df3ce81",
   "metadata": {
    "tags": []
   },
   "outputs": [],
   "source": [
    "true_sorted_70, bkg_lone_sorted_70, bkg_cluster_lone_sorted_70, bkg_lone_cluster_sorted_70, bkg_cluster_cluster_sorted_70, true_sorted_30, bkg_lone_sorted_30, bkg_cluster_lone_sorted_30, bkg_lone_cluster_sorted_30, bkg_cluster_cluster_sorted_30 = create_train_set_test_set(splitNum, true_sorted, bkg_lone_sorted, bkg_cluster_lone_sorted, bkg_lone_cluster_sorted, bkg_cluster_cluster_sorted) \n",
    "#Creates new arrays that represent training and testing datasets made from the arrays made in cell 17. The training data is 70% of the data, and the\n",
    "#testing set is 30% of the data."
   ]
  },
  {
   "cell_type": "code",
   "execution_count": 16,
   "id": "3d743753-1368-4626-befe-5adeb25f8718",
   "metadata": {
    "tags": []
   },
   "outputs": [
    {
     "data": {
      "text/plain": [
       "70"
      ]
     },
     "execution_count": 16,
     "metadata": {},
     "output_type": "execute_result"
    }
   ],
   "source": [
    "len(bkg_cluster_cluster_sorted_70)\n",
    "#Checks the length of one of the training datasets."
   ]
  },
  {
   "cell_type": "markdown",
   "id": "cc842415",
   "metadata": {},
   "source": [
    "### Checking the minimum length of each type of edges (true, bkg_l, bkg_c_l, bkg_c_c)"
   ]
  },
  {
   "cell_type": "code",
   "execution_count": 17,
   "id": "4dd76f26",
   "metadata": {
    "tags": []
   },
   "outputs": [
    {
     "data": {
      "text/plain": [
       "28118"
      ]
     },
     "execution_count": 17,
     "metadata": {},
     "output_type": "execute_result"
    }
   ],
   "source": [
    "min(true_pairNumber_sorted_70)"
   ]
  },
  {
   "cell_type": "code",
   "execution_count": 18,
   "id": "2e475c95",
   "metadata": {
    "tags": []
   },
   "outputs": [
    {
     "data": {
      "text/plain": [
       "554288"
      ]
     },
     "execution_count": 18,
     "metadata": {},
     "output_type": "execute_result"
    }
   ],
   "source": [
    "min(bkg_lone_pairNumber_sorted_70)"
   ]
  },
  {
   "cell_type": "code",
   "execution_count": 19,
   "id": "9b0613b6",
   "metadata": {
    "tags": []
   },
   "outputs": [
    {
     "data": {
      "text/plain": [
       "24068"
      ]
     },
     "execution_count": 19,
     "metadata": {},
     "output_type": "execute_result"
    }
   ],
   "source": [
    "min(bkg_cluster_lone_pairNumber_sorted_70)"
   ]
  },
  {
   "cell_type": "code",
   "execution_count": 20,
   "id": "3a6c1e46",
   "metadata": {
    "tags": []
   },
   "outputs": [
    {
     "data": {
      "text/plain": [
       "1983"
      ]
     },
     "execution_count": 20,
     "metadata": {},
     "output_type": "execute_result"
    }
   ],
   "source": [
    "min(bkg_cluster_cluster_pairNumber_sorted_70)\n",
    "#Prints minimum lengths from the length training datasets."
   ]
  },
  {
   "cell_type": "code",
   "execution_count": 21,
   "id": "dfad1fda-7beb-4c80-aea2-be7c8bb838e1",
   "metadata": {},
   "outputs": [
    {
     "data": {
      "text/plain": [
       "5688"
      ]
     },
     "execution_count": 21,
     "metadata": {},
     "output_type": "execute_result"
    }
   ],
   "source": [
    "min([len(row) for row in bkg_cluster_cluster_sorted_70])"
   ]
  },
  {
   "cell_type": "markdown",
   "id": "5ddfc679",
   "metadata": {},
   "source": [
    "### Based on minimum lengths concluding true: 15k, bkg_l: 6_5k, bkg_c_l: 6_5k, bkg_c_c: 2k"
   ]
  },
  {
   "cell_type": "code",
   "execution_count": 22,
   "id": "6932696b-bb8a-45d3-9ee4-43f457021efe",
   "metadata": {
    "tags": []
   },
   "outputs": [],
   "source": [
    "true_training, bkg_lone_training, bkg_cluster_lone_training, bkg_lone_cluster_training, bkg_cluster_cluster_training = sampleDataTraining(true_sorted_70, bkg_lone_sorted_70, bkg_cluster_lone_sorted_70, bkg_lone_cluster_sorted_70, bkg_cluster_cluster_sorted_70)\n",
    "#I’m not sure what this is doing. I believe that it is pulling a random sampling of data in each training sample so that there will be an equal amount\n",
    "#of signal and background, and then saving these samples into new arrays."
   ]
  },
  {
   "cell_type": "code",
   "execution_count": 23,
   "id": "39dbdecf",
   "metadata": {
    "tags": []
   },
   "outputs": [
    {
     "data": {
      "text/plain": [
       "(70, 22400)"
      ]
     },
     "execution_count": 23,
     "metadata": {},
     "output_type": "execute_result"
    }
   ],
   "source": [
    "true_training.shape\n",
    "#Prints the shape of the sampled true array."
   ]
  },
  {
   "cell_type": "code",
   "execution_count": 24,
   "id": "dedd5292",
   "metadata": {
    "tags": []
   },
   "outputs": [
    {
     "data": {
      "text/plain": [
       "(70, 5600)"
      ]
     },
     "execution_count": 24,
     "metadata": {},
     "output_type": "execute_result"
    }
   ],
   "source": [
    "bkg_lone_training.shape"
   ]
  },
  {
   "cell_type": "code",
   "execution_count": 25,
   "id": "16729afb-1cd3-4504-995b-3cdf608900c0",
   "metadata": {
    "tags": []
   },
   "outputs": [
    {
     "data": {
      "text/plain": [
       "(70, 5600)"
      ]
     },
     "execution_count": 25,
     "metadata": {},
     "output_type": "execute_result"
    }
   ],
   "source": [
    "bkg_cluster_cluster_training.shape\n",
    "#Prints the shape of two of the sampled background arrays."
   ]
  },
  {
   "cell_type": "code",
   "execution_count": 26,
   "id": "2faa7c31",
   "metadata": {
    "tags": []
   },
   "outputs": [],
   "source": [
    "bkg_total_training = np.concatenate((bkg_lone_training, bkg_cluster_lone_training, bkg_lone_cluster_training, bkg_cluster_cluster_training), axis =1)\n",
    "#Concatenates all of the sampled background arrays into one sampled background array."
   ]
  },
  {
   "cell_type": "code",
   "execution_count": 27,
   "id": "db5477de",
   "metadata": {
    "tags": []
   },
   "outputs": [
    {
     "data": {
      "text/plain": [
       "(70, 22400)"
      ]
     },
     "execution_count": 27,
     "metadata": {},
     "output_type": "execute_result"
    }
   ],
   "source": [
    "bkg_total_training.shape\n",
    "#Checks the shape of the sampled background array."
   ]
  },
  {
   "cell_type": "markdown",
   "id": "96c4d616",
   "metadata": {},
   "source": [
    "### Labelling for true/signal and fake/bkg as 1, 0"
   ]
  },
  {
   "cell_type": "code",
   "execution_count": 28,
   "id": "cd1c218f",
   "metadata": {
    "tags": []
   },
   "outputs": [],
   "source": [
    "bkg_truth_training = np.zeros(bkg_total_training.shape, dtype=int)\n",
    "true_truth_training = np.ones(true_training.shape, dtype=int)\n",
    "#Creates an array of zeros in the shape of the sampled background array. Creates an array of ones in the shape of the sampled true array. These are to\n",
    "#create arrays to show the truth value of the sampled arrays. I am going to call these truth arrays."
   ]
  },
  {
   "cell_type": "code",
   "execution_count": 29,
   "id": "382580e1",
   "metadata": {
    "tags": []
   },
   "outputs": [],
   "source": [
    "total_truth_training = np.concatenate((true_truth_training,bkg_truth_training), axis =1)\n",
    "#Concatenate the truth arrays together to create one truth array."
   ]
  },
  {
   "cell_type": "code",
   "execution_count": 30,
   "id": "25ac3ab5",
   "metadata": {
    "tags": []
   },
   "outputs": [
    {
     "data": {
      "text/plain": [
       "(70, 44800)"
      ]
     },
     "execution_count": 30,
     "metadata": {},
     "output_type": "execute_result"
    }
   ],
   "source": [
    "total_truth_training.shape\n",
    "#Check the shape of the truth array."
   ]
  },
  {
   "cell_type": "code",
   "execution_count": 31,
   "id": "4d558888",
   "metadata": {
    "tags": []
   },
   "outputs": [],
   "source": [
    "total_training_indices = np.concatenate((true_training ,bkg_total_training), axis =1)\n",
    "#Concatenate the sampled signal and background arrays into one array that I shall refer to as the training array."
   ]
  },
  {
   "cell_type": "code",
   "execution_count": 32,
   "id": "e6107c98",
   "metadata": {
    "tags": []
   },
   "outputs": [
    {
     "data": {
      "text/plain": [
       "(70, 44800)"
      ]
     },
     "execution_count": 32,
     "metadata": {},
     "output_type": "execute_result"
    }
   ],
   "source": [
    "total_training_indices.shape\n",
    "#Check the shape of the training array."
   ]
  },
  {
   "cell_type": "code",
   "execution_count": 33,
   "id": "81067b3a",
   "metadata": {
    "tags": []
   },
   "outputs": [],
   "source": [
    "rand_index_training = createRandomIndices(total_training_indices.shape)\n",
    "#Creates an array that releases a random sequence of indices. I’m going to call this the random indices array."
   ]
  },
  {
   "cell_type": "code",
   "execution_count": 34,
   "id": "2d863d94",
   "metadata": {
    "tags": []
   },
   "outputs": [
    {
     "data": {
      "text/plain": [
       "array([22625,  8118, 33526, ..., 38044, 14738, 36545])"
      ]
     },
     "execution_count": 34,
     "metadata": {},
     "output_type": "execute_result"
    }
   ],
   "source": [
    "rand_index_training[0]\n",
    "#Prints the first element of the random indices array"
   ]
  },
  {
   "cell_type": "code",
   "execution_count": 35,
   "id": "3fe41806",
   "metadata": {
    "tags": []
   },
   "outputs": [],
   "source": [
    "# Randomizing training sample\n",
    "total_training_indices_rand = randomize2DArray(rand_index_training, total_training_indices)\n",
    "#Uses the random indices array to randomize the training array and saves it into a randomized training array."
   ]
  },
  {
   "cell_type": "code",
   "execution_count": 36,
   "id": "ad297532",
   "metadata": {
    "tags": []
   },
   "outputs": [],
   "source": [
    "# Randomizing truth of training sample according to the sample\n",
    "total_truth_rand_training = randomize2DArray(rand_index_training, total_truth_training)\n",
    "#Uses the random indices array to randomize the truth array and saves it into a randomized truth array."
   ]
  },
  {
   "cell_type": "code",
   "execution_count": 37,
   "id": "78b31a49",
   "metadata": {
    "tags": []
   },
   "outputs": [
    {
     "data": {
      "text/plain": [
       "array([0, 1, 0, ..., 0, 1, 0])"
      ]
     },
     "execution_count": 37,
     "metadata": {},
     "output_type": "execute_result"
    }
   ],
   "source": [
    "total_truth_rand_training[0]\n",
    "#Prints the first element of the randomized truth array."
   ]
  },
  {
   "cell_type": "code",
   "execution_count": 38,
   "id": "467e95b2",
   "metadata": {
    "tags": []
   },
   "outputs": [],
   "source": [
    "writeH5File('./truth_label_train_70evs_all2D.hdf5', \"truth_label_train\", total_truth_rand_training)\n",
    "#Saves the randomized truth array to an hdf5 file."
   ]
  },
  {
   "cell_type": "code",
   "execution_count": 39,
   "id": "4baafb44",
   "metadata": {
    "tags": []
   },
   "outputs": [
    {
     "data": {
      "text/plain": [
       "(70, 44800)"
      ]
     },
     "execution_count": 39,
     "metadata": {},
     "output_type": "execute_result"
    }
   ],
   "source": [
    "total_training_indices_rand.shape\n",
    "#Prints the shape of the randomized training array."
   ]
  },
  {
   "cell_type": "code",
   "execution_count": 40,
   "id": "568e5fcf",
   "metadata": {
    "tags": []
   },
   "outputs": [],
   "source": [
    "neighbor_pairs_unique_sorted= readH5File(\"./neighbor_pairs_unique_sorted_all2D.hdf5\", \"neighbor_pair\")\n",
    "#Retrieves the sorted neighbor pairs from an hdf5 file."
   ]
  },
  {
   "cell_type": "code",
   "execution_count": 41,
   "id": "4e8d1dd3-e7f8-4ddb-805f-3784259027a1",
   "metadata": {},
   "outputs": [
    {
     "data": {
      "text/plain": [
       "(741512, 2)"
      ]
     },
     "execution_count": 41,
     "metadata": {},
     "output_type": "execute_result"
    }
   ],
   "source": [
    "neighbor_pairs_unique_sorted.shape"
   ]
  },
  {
   "cell_type": "code",
   "execution_count": 42,
   "id": "9820b81f",
   "metadata": {
    "tags": []
   },
   "outputs": [],
   "source": [
    "# Arranging training edges with training indices\n",
    "total_training_edges_rand = randomizeEdges(total_training_indices_rand, neighbor_pairs_unique_sorted) \n",
    "#Creates a training edges array by using the randomized training indices on the sorted neighbor pairs array."
   ]
  },
  {
   "cell_type": "code",
   "execution_count": 43,
   "id": "2dee2224",
   "metadata": {
    "tags": []
   },
   "outputs": [
    {
     "data": {
      "text/plain": [
       "(70, 44800, 2)"
      ]
     },
     "execution_count": 43,
     "metadata": {},
     "output_type": "execute_result"
    }
   ],
   "source": [
    "total_training_edges_rand.shape\n",
    "#Print the shape of the training edges array."
   ]
  },
  {
   "cell_type": "code",
   "execution_count": 44,
   "id": "79219b9a",
   "metadata": {
    "tags": []
   },
   "outputs": [],
   "source": [
    "train_edge_source_BD, train_edge_dest_BD, train_edge_source_noBD, train_edge_dest_noBD = createEdgeArrays(total_training_edges_rand)\n",
    "#Creates an array called train_edge_source_BD out of the randomized training edges array. I’m not sure what this is, to be honest."
   ]
  },
  {
   "cell_type": "code",
   "execution_count": 45,
   "id": "1acead78",
   "metadata": {
    "tags": []
   },
   "outputs": [
    {
     "data": {
      "text/plain": [
       "(70, 89600)"
      ]
     },
     "execution_count": 45,
     "metadata": {},
     "output_type": "execute_result"
    }
   ],
   "source": [
    "train_edge_source_BD.shape\n",
    "#Prints the shape of the train_edge_source_BD array."
   ]
  },
  {
   "cell_type": "code",
   "execution_count": 46,
   "id": "332b9a54",
   "metadata": {
    "tags": []
   },
   "outputs": [
    {
     "data": {
      "text/plain": [
       "(70, 89600)"
      ]
     },
     "execution_count": 46,
     "metadata": {},
     "output_type": "execute_result"
    }
   ],
   "source": [
    "train_edge_dest_BD.shape\n",
    "#Prints the shape of the train_edge_dest_BD array."
   ]
  },
  {
   "cell_type": "code",
   "execution_count": 47,
   "id": "e184f848",
   "metadata": {
    "tags": []
   },
   "outputs": [
    {
     "data": {
      "text/plain": [
       "(70, 44800)"
      ]
     },
     "execution_count": 47,
     "metadata": {},
     "output_type": "execute_result"
    }
   ],
   "source": [
    "train_edge_source_noBD.shape\n",
    "#Prints the shape of the train_edge_source_noBD array."
   ]
  },
  {
   "cell_type": "code",
   "execution_count": 48,
   "id": "8750f165",
   "metadata": {
    "tags": []
   },
   "outputs": [
    {
     "data": {
      "text/plain": [
       "(70, 44800)"
      ]
     },
     "execution_count": 48,
     "metadata": {},
     "output_type": "execute_result"
    }
   ],
   "source": [
    "train_edge_dest_noBD.shape\n",
    "#Prints the shape of the train_edge_dest_noBD array."
   ]
  },
  {
   "cell_type": "code",
   "execution_count": 49,
   "id": "35f5f4bc",
   "metadata": {
    "tags": []
   },
   "outputs": [],
   "source": [
    "writeH5File('./train_edge_source_BD_70evs_all2D.hdf5', \"train_edge_source_BD\", train_edge_source_BD)\n",
    "\n",
    "writeH5File('./train_edge_dest_BD_70evs_all2D.hdf5', \"train_edge_dest_BD\", train_edge_dest_BD)\n",
    "     \n",
    "writeH5File('./train_edge_source_noBD_70evs_all2D.hdf5', \"train_edge_source_noBD\", train_edge_source_noBD)\n",
    "\n",
    "writeH5File('./train_edge_dest_noBD_70evs_all2D.hdf5', \"train_edge_dest_noBD\", train_edge_dest_noBD)\n",
    "#Saves the BD and noBD arrays into hdf5 files."
   ]
  },
  {
   "cell_type": "markdown",
   "id": "375ee2aa-ab23-46a8-bc35-8d4ae10f1491",
   "metadata": {},
   "source": [
    "# Scaling of features"
   ]
  },
  {
   "cell_type": "code",
   "execution_count": 50,
   "id": "fc27685a-f1fa-438c-a03c-36befb60b9ce",
   "metadata": {
    "tags": []
   },
   "outputs": [],
   "source": [
    "cellFeatures_trainS, cellFeatures_testS = scaling_of_features(dynamic_variables, splitNum, sorted_cluster_cluster_pairNumber_indices, \"./scaler_neighbor_data_70_sorted_all2D.save\")"
   ]
  },
  {
   "cell_type": "code",
   "execution_count": 51,
   "id": "7d2033d0-5ee1-4406-b5bb-1d5a504ab0c9",
   "metadata": {
    "tags": []
   },
   "outputs": [
    {
     "data": {
      "text/plain": [
       "(13135640, 8)"
      ]
     },
     "execution_count": 51,
     "metadata": {},
     "output_type": "execute_result"
    }
   ],
   "source": [
    "cellFeatures_trainS.shape"
   ]
  },
  {
   "cell_type": "code",
   "execution_count": 52,
   "id": "e9cd0ff9-88e9-4425-91a6-3c21d19ca841",
   "metadata": {
    "tags": []
   },
   "outputs": [],
   "source": [
    "cellFeatures_trainS_reshape = reshapeFeatures(splitNum, cellFeatures_trainS)\n",
    "#Reshape the cell feature training array."
   ]
  },
  {
   "cell_type": "code",
   "execution_count": 53,
   "id": "ac254b2e-a0e3-4f43-a216-d0d45485f6fb",
   "metadata": {
    "tags": []
   },
   "outputs": [],
   "source": [
    "cellFeatures_testS_reshape = reshapeFeatures(len(neighbor_truth_100evs)-splitNum, cellFeatures_testS)\n",
    "#Reshape the cell feature testing array."
   ]
  },
  {
   "cell_type": "code",
   "execution_count": 54,
   "id": "7776ef70",
   "metadata": {
    "tags": []
   },
   "outputs": [],
   "source": [
    "# creating Scaled Cell Feature file\n",
    "writeH5File('./cellFeaturesScaled_train_70evs_all2D.hdf5', \"cellFeatures_trainS\", cellFeatures_trainS_reshape)"
   ]
  },
  {
   "cell_type": "code",
   "execution_count": 55,
   "id": "eeaade9b",
   "metadata": {
    "tags": []
   },
   "outputs": [],
   "source": [
    "writeH5File('./cellFeaturesScaled_test_30evs_all2D.hdf5', \"cellFeatures_testS\", cellFeatures_testS_reshape)\n",
    "#Save the cell features arrays into hdf5 files."
   ]
  },
  {
   "cell_type": "markdown",
   "id": "dab58f33-8670-4510-b164-7eb7a6c3d45b",
   "metadata": {},
   "source": [
    "### for test sample"
   ]
  },
  {
   "cell_type": "code",
   "execution_count": 56,
   "id": "67696c8a-e3db-4dea-80ff-bb9785f8d502",
   "metadata": {
    "tags": []
   },
   "outputs": [
    {
     "data": {
      "text/plain": [
       "31367"
      ]
     },
     "execution_count": 56,
     "metadata": {},
     "output_type": "execute_result"
    }
   ],
   "source": [
    "min(true_pairNumber_sorted_30)"
   ]
  },
  {
   "cell_type": "code",
   "execution_count": 57,
   "id": "3c85b1d4-9fc9-4145-8e3c-9ff7b5a7466d",
   "metadata": {
    "tags": []
   },
   "outputs": [
    {
     "data": {
      "text/plain": [
       "540266"
      ]
     },
     "execution_count": 57,
     "metadata": {},
     "output_type": "execute_result"
    }
   ],
   "source": [
    "min(bkg_lone_pairNumber_sorted_30)"
   ]
  },
  {
   "cell_type": "code",
   "execution_count": 58,
   "id": "540a4cfa-2aac-4948-8aac-4b5e6d2a1c41",
   "metadata": {
    "tags": []
   },
   "outputs": [
    {
     "data": {
      "text/plain": [
       "25427"
      ]
     },
     "execution_count": 58,
     "metadata": {},
     "output_type": "execute_result"
    }
   ],
   "source": [
    "min(bkg_cluster_lone_pairNumber_sorted_30)"
   ]
  },
  {
   "cell_type": "code",
   "execution_count": 59,
   "id": "fcd31a77-6137-4025-b7c2-c5bb667d2667",
   "metadata": {
    "tags": []
   },
   "outputs": [
    {
     "data": {
      "text/plain": [
       "2785"
      ]
     },
     "execution_count": 59,
     "metadata": {},
     "output_type": "execute_result"
    }
   ],
   "source": [
    "min(bkg_cluster_cluster_pairNumber_sorted_30)\n",
    "#Print the minimum of the length test data arrays"
   ]
  },
  {
   "cell_type": "code",
   "execution_count": 60,
   "id": "e5b8b207-8165-4e1f-8aa8-51ef8ab94c3a",
   "metadata": {},
   "outputs": [
    {
     "data": {
      "text/plain": [
       "1983"
      ]
     },
     "execution_count": 60,
     "metadata": {},
     "output_type": "execute_result"
    }
   ],
   "source": [
    "min([len(row) for row in bkg_cluster_cluster_sorted_30])"
   ]
  },
  {
   "cell_type": "code",
   "execution_count": 61,
   "id": "a2e0be6a-efd3-477b-8226-3e4e647948ca",
   "metadata": {
    "tags": []
   },
   "outputs": [],
   "source": [
    "true_testing_sample, bkg_lone_testing_sample, bkg_cluster_lone_testing_sample, bkg_lone_cluster_testing_sample, bkg_cluster_cluster_testing_sample = sampleDataTesting(true_sorted_30, bkg_lone_sorted_30, bkg_cluster_lone_sorted_30, bkg_lone_cluster_sorted_30, bkg_cluster_cluster_sorted_30)\n",
    "#Create a random sampling out of the length test arrays and save them to new arrays."
   ]
  },
  {
   "cell_type": "code",
   "execution_count": 62,
   "id": "171e10b7-0a3a-4e63-8af6-709a158be169",
   "metadata": {},
   "outputs": [],
   "source": [
    "bkg_total_testing = np.concatenate((bkg_lone_testing_sample, bkg_cluster_lone_testing_sample, bkg_lone_cluster_testing_sample, bkg_cluster_cluster_testing_sample), axis = 1) #(30, 1777000)"
   ]
  },
  {
   "cell_type": "code",
   "execution_count": 63,
   "id": "f5e3ff63-9f40-4959-8ebb-b28ec5fc5e6e",
   "metadata": {},
   "outputs": [
    {
     "data": {
      "text/plain": [
       "(30, 655800)"
      ]
     },
     "execution_count": 63,
     "metadata": {},
     "output_type": "execute_result"
    }
   ],
   "source": [
    "bkg_total_testing.shape"
   ]
  },
  {
   "cell_type": "code",
   "execution_count": 64,
   "id": "90c0f19a-d968-4848-a232-4070435b19c8",
   "metadata": {},
   "outputs": [
    {
     "data": {
      "text/plain": [
       "(30, 28100)"
      ]
     },
     "execution_count": 64,
     "metadata": {},
     "output_type": "execute_result"
    }
   ],
   "source": [
    "true_testing_sample.shape"
   ]
  },
  {
   "cell_type": "code",
   "execution_count": 65,
   "id": "426872ac-a8c9-4511-b776-29787198a8be",
   "metadata": {},
   "outputs": [],
   "source": [
    "bkg_truth_testing = np.zeros(bkg_total_testing.shape) #(30, 1777000)\n",
    "true_truth_testing = np.ones(true_testing_sample.shape) #(30, 45000)"
   ]
  },
  {
   "cell_type": "code",
   "execution_count": 66,
   "id": "8aa19687-3de4-4980-9645-e9d5813866dd",
   "metadata": {},
   "outputs": [],
   "source": [
    "total_truth_testing = np.concatenate((true_truth_testing, bkg_truth_testing), axis = 1) #(30, 222000)"
   ]
  },
  {
   "cell_type": "code",
   "execution_count": 67,
   "id": "aed38889-790e-4578-a72c-3817c003e297",
   "metadata": {},
   "outputs": [
    {
     "data": {
      "text/plain": [
       "(30, 683900)"
      ]
     },
     "execution_count": 67,
     "metadata": {},
     "output_type": "execute_result"
    }
   ],
   "source": [
    "total_truth_testing.shape"
   ]
  },
  {
   "cell_type": "code",
   "execution_count": 68,
   "id": "964e6b87-4f38-4c27-8613-e3147a526553",
   "metadata": {},
   "outputs": [],
   "source": [
    "total_testing_indices = np.concatenate((true_testing_sample, bkg_total_testing), axis=1) #(30, 222000)"
   ]
  },
  {
   "cell_type": "code",
   "execution_count": 69,
   "id": "664ac980-ee21-4786-8410-f57036b28d55",
   "metadata": {},
   "outputs": [
    {
     "data": {
      "text/plain": [
       "(30, 683900)"
      ]
     },
     "execution_count": 69,
     "metadata": {},
     "output_type": "execute_result"
    }
   ],
   "source": [
    "total_testing_indices.shape"
   ]
  },
  {
   "cell_type": "code",
   "execution_count": 70,
   "id": "7af56f90-bf3a-495d-bb5f-105960c3053c",
   "metadata": {},
   "outputs": [],
   "source": [
    "rand_index_testing = createRandomIndices(total_testing_indices.shape)"
   ]
  },
  {
   "cell_type": "code",
   "execution_count": 71,
   "id": "b9d27183-7148-497c-83f8-36530d1c06de",
   "metadata": {},
   "outputs": [
    {
     "data": {
      "text/plain": [
       "(30, 683900)"
      ]
     },
     "execution_count": 71,
     "metadata": {},
     "output_type": "execute_result"
    }
   ],
   "source": [
    "rand_index_testing.shape"
   ]
  },
  {
   "cell_type": "code",
   "execution_count": 72,
   "id": "850c2ba1-bcfe-4c21-9288-6d61ad7706a7",
   "metadata": {},
   "outputs": [
    {
     "data": {
      "text/plain": [
       "array([376534, 586909,  86837, ..., 605768,  75159, 669115])"
      ]
     },
     "execution_count": 72,
     "metadata": {},
     "output_type": "execute_result"
    }
   ],
   "source": [
    "rand_index_testing[0]"
   ]
  },
  {
   "cell_type": "code",
   "execution_count": 73,
   "id": "9ec2cf40-9553-4fca-91f8-d623239f4fff",
   "metadata": {},
   "outputs": [],
   "source": [
    "total_testing_indices_rand = randomize2DArray(rand_index_testing, total_testing_indices)"
   ]
  },
  {
   "cell_type": "code",
   "execution_count": 74,
   "id": "b5f06739-efc7-40a2-9128-26ded4e476fb",
   "metadata": {},
   "outputs": [],
   "source": [
    "total_truth_rand_testing = randomize2DArray(rand_index_testing, total_truth_testing)"
   ]
  },
  {
   "cell_type": "code",
   "execution_count": 75,
   "id": "05b02898-9362-465d-a633-2f59be6a024c",
   "metadata": {},
   "outputs": [
    {
     "data": {
      "text/plain": [
       "(30, 683900)"
      ]
     },
     "execution_count": 75,
     "metadata": {},
     "output_type": "execute_result"
    }
   ],
   "source": [
    "total_truth_rand_testing.shape"
   ]
  },
  {
   "cell_type": "code",
   "execution_count": 76,
   "id": "338695a8-f6de-48c2-9d82-69461f451883",
   "metadata": {},
   "outputs": [
    {
     "data": {
      "text/plain": [
       "array([0., 0., 0., ..., 0., 0., 0.])"
      ]
     },
     "execution_count": 76,
     "metadata": {},
     "output_type": "execute_result"
    }
   ],
   "source": [
    "total_truth_rand_testing[0]"
   ]
  },
  {
   "cell_type": "code",
   "execution_count": 77,
   "id": "837ce04f-2c16-4c57-a9a7-242ed3dd1d13",
   "metadata": {},
   "outputs": [],
   "source": [
    "writeH5File('./truth_label_test_30evs_all2D.hdf5', \"truth_label_test\", total_truth_rand_testing)"
   ]
  },
  {
   "cell_type": "code",
   "execution_count": 92,
   "id": "9010a67e-d7da-43b3-9671-b7fcedeba170",
   "metadata": {
    "tags": []
   },
   "outputs": [],
   "source": [
    "true_test_edges = randomizeEdges(true_testing_sample, neighbor_pairs_unique_sorted)\n",
    "bkg_lone_test_edges = randomizeEdges(bkg_lone_testing_sample, neighbor_pairs_unique_sorted)\n",
    "bkg_cluster_lone_test_edges = randomizeEdges(bkg_cluster_lone_testing_sample, neighbor_pairs_unique_sorted)\n",
    "bkg_lone_cluster_test_edges = randomizeEdges(bkg_lone_cluster_testing_sample, neighbor_pairs_unique_sorted)\n",
    "bkg_cluster_cluster_test_edges = randomizeEdges(bkg_cluster_cluster_testing_sample, neighbor_pairs_unique_sorted)\n",
    "#Create a test edges arrays by putting the sampled length indices into the sorted neighbor arrays."
   ]
  },
  {
   "cell_type": "code",
   "execution_count": 79,
   "id": "3baa8439-6e57-443e-ab09-4c5a57926235",
   "metadata": {
    "tags": []
   },
   "outputs": [
    {
     "data": {
      "text/plain": [
       "(30, 28100, 2)"
      ]
     },
     "execution_count": 79,
     "metadata": {},
     "output_type": "execute_result"
    }
   ],
   "source": [
    "true_test_edges.shape\n",
    "#Print the shape of the true test edges array."
   ]
  },
  {
   "cell_type": "code",
   "execution_count": 80,
   "id": "55f32a88-e7ba-40ec-a217-a11e05550509",
   "metadata": {},
   "outputs": [],
   "source": [
    "total_testing_edges_rand = randomizeEdges(total_testing_indices_rand, neighbor_pairs_unique_sorted)"
   ]
  },
  {
   "cell_type": "code",
   "execution_count": 81,
   "id": "26984893-1a9e-456a-937f-5114c8112eba",
   "metadata": {},
   "outputs": [
    {
     "data": {
      "text/plain": [
       "(30, 683900, 2)"
      ]
     },
     "execution_count": 81,
     "metadata": {},
     "output_type": "execute_result"
    }
   ],
   "source": [
    "total_testing_edges_rand.shape"
   ]
  },
  {
   "cell_type": "code",
   "execution_count": 82,
   "id": "74e6ac29-de56-48b7-8c9f-bba7603a5d20",
   "metadata": {},
   "outputs": [],
   "source": [
    "test_edge_source_BD, test_edge_dest_BD, test_edge_source_noBD, test_edge_dest_noBD = createEdgeArrays(total_testing_edges_rand)"
   ]
  },
  {
   "cell_type": "code",
   "execution_count": 83,
   "id": "09d5349c-97de-473b-977a-b44d7379be0c",
   "metadata": {},
   "outputs": [
    {
     "data": {
      "text/plain": [
       "(30, 1367800)"
      ]
     },
     "execution_count": 83,
     "metadata": {},
     "output_type": "execute_result"
    }
   ],
   "source": [
    "test_edge_source_BD.shape"
   ]
  },
  {
   "cell_type": "code",
   "execution_count": 84,
   "id": "8cbe7659-48dd-481a-8478-f634c54881fd",
   "metadata": {},
   "outputs": [
    {
     "data": {
      "text/plain": [
       "(30, 1367800)"
      ]
     },
     "execution_count": 84,
     "metadata": {},
     "output_type": "execute_result"
    }
   ],
   "source": [
    "test_edge_dest_BD.shape"
   ]
  },
  {
   "cell_type": "code",
   "execution_count": 85,
   "id": "e0ec8dae-b5ab-459e-bef2-d64b4a54286f",
   "metadata": {},
   "outputs": [
    {
     "data": {
      "text/plain": [
       "(30, 683900)"
      ]
     },
     "execution_count": 85,
     "metadata": {},
     "output_type": "execute_result"
    }
   ],
   "source": [
    "test_edge_source_noBD.shape"
   ]
  },
  {
   "cell_type": "code",
   "execution_count": 86,
   "id": "a1fe701e-0703-487a-bae3-097b8e789de7",
   "metadata": {},
   "outputs": [
    {
     "data": {
      "text/plain": [
       "(30, 683900)"
      ]
     },
     "execution_count": 86,
     "metadata": {},
     "output_type": "execute_result"
    }
   ],
   "source": [
    "test_edge_dest_noBD.shape"
   ]
  },
  {
   "cell_type": "code",
   "execution_count": 87,
   "id": "ef28e0d8-482e-4b4f-b94e-1cb0c2ed64e1",
   "metadata": {},
   "outputs": [],
   "source": [
    "writeH5File('./test_edge_source_BD_30evs_all2D.hdf5', \"test_edge_source_BD\", test_edge_source_BD)\n",
    "\n",
    "writeH5File('./test_edge_dest_BD_30evs_all2D.hdf5', \"test_edge_dest_BD\", test_edge_dest_BD)\n",
    "\n",
    "writeH5File('./test_edge_source_noBD_30evs_all2D.hdf5', \"test_edge_source_noBD\", test_edge_source_noBD)\n",
    "\n",
    "writeH5File('./test_edge_dest_noBD_30evs_all2D.hdf5', \"test_edge_dest_noBD\", test_edge_dest_noBD)"
   ]
  },
  {
   "cell_type": "code",
   "execution_count": 88,
   "id": "7dc9ffce-8b92-4127-ae39-5b2e0acb2bef",
   "metadata": {
    "tags": []
   },
   "outputs": [],
   "source": [
    "test_edge_source_true_BD, test_edge_dest_true_BD, test_edge_source_true_noBD, test_edge_dest_true_noBD = createEdgeArrays(true_test_edges)"
   ]
  },
  {
   "cell_type": "code",
   "execution_count": 89,
   "id": "f0976724-1114-456f-b094-bab9a6c3be76",
   "metadata": {
    "tags": []
   },
   "outputs": [],
   "source": [
    "test_edge_source_bkg_lone_BD, test_edge_dest_bkg_lone_BD, test_edge_source_bkg_lone_noBD, test_edge_dest_bkg_lone_noBD = createEdgeArrays(bkg_lone_test_edges)"
   ]
  },
  {
   "cell_type": "code",
   "execution_count": 90,
   "id": "53dd9ea8-f7aa-4558-b898-f97088c3f777",
   "metadata": {
    "tags": []
   },
   "outputs": [],
   "source": [
    "test_edge_source_bkg_cluster_lone_BD, test_edge_dest_bkg_cluster_lone_BD, test_edge_source_bkg_cluster_lone_noBD, test_edge_dest_bkg_cluster_lone_noBD = createEdgeArrays(bkg_cluster_lone_test_edges)"
   ]
  },
  {
   "cell_type": "code",
   "execution_count": 93,
   "id": "d48526f9-0896-4723-b3ab-81ce6b354264",
   "metadata": {},
   "outputs": [],
   "source": [
    "test_edge_source_bkg_lone_cluster_BD, test_edge_dest_bkg_lone_cluster_BD, test_edge_source_bkg_lone_cluster_noBD, test_edge_dest_bkg_lone_cluster_noBD = createEdgeArrays(bkg_lone_cluster_test_edges)"
   ]
  },
  {
   "cell_type": "code",
   "execution_count": 94,
   "id": "83cd6599-7359-40f1-92d9-a74594da770f",
   "metadata": {
    "tags": []
   },
   "outputs": [],
   "source": [
    "test_edge_source_bkg_cluster_cluster_BD, test_edge_dest_bkg_cluster_cluster_BD, test_edge_source_bkg_cluster_cluster_noBD, test_edge_dest_bkg_cluster_cluster_noBD = createEdgeArrays(bkg_cluster_cluster_test_edges)"
   ]
  },
  {
   "cell_type": "code",
   "execution_count": 95,
   "id": "1994db95-8c47-4b18-ae6e-050566f2f102",
   "metadata": {
    "tags": []
   },
   "outputs": [],
   "source": [
    "writeH5File('./test_edge_source_true_BD_all2D.hdf5', \"test_edge_source_true_BD\", test_edge_source_true_BD)\n",
    "\n",
    "writeH5File('./test_edge_dest_true_BD_all2D.hdf5', \"test_edge_dest_true_BD\", test_edge_dest_true_BD)\n",
    "    \n",
    "writeH5File('./test_edge_source_true_noBD_all2D.hdf5', \"test_edge_source_true_noBD\", test_edge_source_true_noBD)\n",
    "\n",
    "writeH5File('./test_edge_dest_true_noBD_all2D.hdf5', \"test_edge_dest_true_noBD\", test_edge_dest_true_noBD)"
   ]
  },
  {
   "cell_type": "code",
   "execution_count": 96,
   "id": "d0122364-0b48-4339-98b7-7696c0bbfa6c",
   "metadata": {
    "tags": []
   },
   "outputs": [],
   "source": [
    "writeH5File('./test_edge_source_bkg_lone_BD_all2D.hdf5', \"test_edge_source_bkg_lone_BD\", test_edge_source_bkg_lone_BD)\n",
    "\n",
    "writeH5File('./test_edge_dest_bkg_lone_BD_all2D.hdf5', \"test_edge_dest_bkg_lone_BD\", test_edge_dest_bkg_lone_BD)\n",
    "    \n",
    "writeH5File('./test_edge_source_bkg_lone_noBD_all2D.hdf5', \"test_edge_source_bkg_lone_noBD\", test_edge_source_bkg_lone_noBD)\n",
    "\n",
    "writeH5File('./test_edge_dest_bkg_lone_noBD_all2D.hdf5', \"test_edge_dest_bkg_lone_noBD\", test_edge_dest_bkg_lone_noBD)"
   ]
  },
  {
   "cell_type": "code",
   "execution_count": 97,
   "id": "91a0958f-c4ff-4ec8-b3d6-04f55323c89d",
   "metadata": {
    "tags": []
   },
   "outputs": [],
   "source": [
    "writeH5File('./test_edge_source_bkg_cluster_lone_BD_all2D.hdf5', \"test_edge_source_bkg_cluster_lone_BD\", test_edge_source_bkg_cluster_lone_BD)\n",
    "\n",
    "writeH5File('./test_edge_dest_bkg_cluster_lone_BD_all2D.hdf5', \"test_edge_dest_bkg_cluster_lone_BD\", test_edge_dest_bkg_cluster_lone_BD)\n",
    "    \n",
    "writeH5File('./test_edge_source_bkg_cluster_lone_noBD_all2D.hdf5', \"test_edge_source_bkg_cluster_lone_noBD\", test_edge_source_bkg_cluster_lone_noBD)\n",
    "\n",
    "writeH5File('./test_edge_dest_bkg_cluster_lone_noBD_all2D.hdf5', \"test_edge_dest_bkg_cluster_lone_noBD\", test_edge_dest_bkg_cluster_lone_noBD)"
   ]
  },
  {
   "cell_type": "code",
   "execution_count": 98,
   "id": "c47bf310-b232-432d-9059-b22be0877a9f",
   "metadata": {},
   "outputs": [],
   "source": [
    "writeH5File('./test_edge_source_bkg_lone_cluster_BD_all2D.hdf5', \"test_edge_source_bkg_lone_cluster_BD\", test_edge_source_bkg_lone_cluster_BD)\n",
    "\n",
    "writeH5File('./test_edge_dest_bkg_lone_cluster_BD_all2D.hdf5', \"test_edge_dest_bkg_lone_cluster_BD\", test_edge_dest_bkg_lone_cluster_BD)\n",
    "    \n",
    "writeH5File('./test_edge_source_bkg_lone_cluster_noBD_all2D.hdf5', \"test_edge_source_bkg_lone_cluster_noBD\", test_edge_source_bkg_lone_cluster_noBD)\n",
    "\n",
    "writeH5File('./test_edge_dest_bkg_lone_cluster_noBD_all2D.hdf5', \"test_edge_dest_bkg_lone_cluster_noBD\", test_edge_dest_bkg_lone_cluster_noBD)"
   ]
  },
  {
   "cell_type": "code",
   "execution_count": 99,
   "id": "0ab89922-301c-4a05-ba78-395ad2f0174c",
   "metadata": {
    "tags": []
   },
   "outputs": [],
   "source": [
    "writeH5File('./test_edge_source_bkg_cluster_cluster_BD_all2D.hdf5', \"test_edge_source_bkg_cluster_cluster_BD\", test_edge_source_bkg_cluster_cluster_BD)\n",
    "\n",
    "writeH5File('./test_edge_dest_bkg_cluster_cluster_BD_all2D.hdf5', \"test_edge_dest_bkg_cluster_cluster_BD\", test_edge_dest_bkg_cluster_cluster_BD)\n",
    "    \n",
    "writeH5File('./test_edge_source_bkg_cluster_cluster_noBD_all2D.hdf5', \"test_edge_source_bkg_cluster_cluster_noBD\", test_edge_source_bkg_cluster_cluster_noBD)\n",
    "\n",
    "writeH5File('./test_edge_dest_bkg_cluster_cluster_noBD_all2D.hdf5', \"test_edge_dest_bkg_cluster_cluster_noBD\", test_edge_dest_bkg_cluster_cluster_noBD)\n",
    "#Saves these BD and noBD arrays into hdf5 files."
   ]
  }
 ],
 "metadata": {
  "kernelspec": {
   "display_name": "Python 3 (ipykernel)",
   "language": "python",
   "name": "python3"
  },
  "language_info": {
   "codemirror_mode": {
    "name": "ipython",
    "version": 3
   },
   "file_extension": ".py",
   "mimetype": "text/x-python",
   "name": "python",
   "nbconvert_exporter": "python",
   "pygments_lexer": "ipython3",
   "version": "3.10.12"
  }
 },
 "nbformat": 4,
 "nbformat_minor": 5
}
