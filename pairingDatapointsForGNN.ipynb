{
 "cells": [
  {
   "cell_type": "markdown",
   "id": "679e6c0b",
   "metadata": {},
   "source": [
    "# Data preaparation\n"
   ]
  },
  {
   "cell_type": "code",
   "execution_count": 7,
   "id": "d8ca5bae-c3d3-46b0-a704-098d864219e0",
   "metadata": {},
   "outputs": [
    {
     "data": {
      "text/plain": [
       "'\\nThis code prepares and processes data from a ROOT file containing data related to 100 events.\\nThe data is converted to numpy arrays and the dimensions/lengths are checked to ensure the\\ndata is structured correctly. Labels are created for neighbors and all the information is saved\\nas an hdf5 file.\\n'"
      ]
     },
     "execution_count": 7,
     "metadata": {},
     "output_type": "execute_result"
    }
   ],
   "source": [
    "# Summary of the Code:\n",
    "'''\n",
    "This code prepares and processes data from a ROOT file containing data related to 100 events.\n",
    "The data is converted to numpy arrays and the dimensions/lengths are checked to ensure the\n",
    "data is structured correctly. Labels are created for neighbors and all the information is saved\n",
    "as an hdf5 file.\n",
    "'''"
   ]
  },
  {
   "cell_type": "code",
   "execution_count": 8,
   "id": "55d34e4a",
   "metadata": {},
   "outputs": [],
   "source": [
    "import uproot # reads data from ROOT files into numpy arrays or pandas DataFrames\n",
    "import numpy as np # fundamental package for numerical computing\n",
    "import h5py # allows for the creation and loading of hdf5 files which are used to store large amounts of numerical data\n",
    "import os # standard library for interacting with the operating system.\n",
    "import matplotlib.pyplot as plt # data visualization and graphical plotting library"
   ]
  },
  {
   "cell_type": "code",
   "execution_count": 9,
   "id": "3f5cfe89-1662-46b0-b75d-d4ee58b93837",
   "metadata": {},
   "outputs": [],
   "source": [
    "%run \"GeneralFunctions.ipynb\""
   ]
  },
  {
   "cell_type": "code",
   "execution_count": 10,
   "id": "25e5d2cb",
   "metadata": {},
   "outputs": [
    {
     "data": {
      "text/plain": [
       "'5.3.9'"
      ]
     },
     "execution_count": 10,
     "metadata": {},
     "output_type": "execute_result"
    }
   ],
   "source": [
    "uproot.__version__"
   ]
  },
  {
   "cell_type": "code",
   "execution_count": 11,
   "id": "32f73740-1707-44b8-8612-f69d1ad79396",
   "metadata": {},
   "outputs": [],
   "source": [
    "branches = branchesFromRootFile(\"MyxAODAnalysis_super3D.outputs.root\")"
   ]
  },
  {
   "cell_type": "code",
   "execution_count": 12,
   "id": "d64b6562-fc2f-435c-9562-714b2d9584f4",
   "metadata": {},
   "outputs": [
    {
     "data": {
      "text/html": [
       "<pre>[[23637, 23636, 23638, 23381, 23893, ..., 12340, 12276, 22865, 12212, 22613],\n",
       " [185684, 185696, 185687, 187054, 187059, ..., 84721, 76531, 77551, 84466],\n",
       " [76271, 76270, 76272, 76527, 76526, ..., 76023, 76021, 76022, 77033, 59547],\n",
       " [179458, 179426, 179474, 179475, 179506, ..., 180131, 179314, 180066, 179266],\n",
       " [185660, 185648, 185663, 185651, 187035, ..., 183034, 85224, 85991, 85990],\n",
       " [179677, 179613, 179644, 179645, 179661, ..., 180334, 180349, 179581, 180285],\n",
       " [179749, 179685, 179717, 179718, 179733, ..., 179765, 179813, 179748, 180665],\n",
       " [19689, 19688, 19690, 19433, 19945, 19432, ..., 19178, 7961, 7960, 8024, 1626],\n",
       " [79732, 79731, 79733, 79476, 79475, ..., 35387, 79723, 64249, 64185, 64313],\n",
       " [18920, 18919, 18921, 18664, 19176, 18663, ..., 5401, 5145, 5337, 5017, 17639],\n",
       " ...,\n",
       " [181760, 181792, 181824, 181840, 180976, 178941],\n",
       " [120426, 120425, 120427, 120170, 120682, ..., 91386, 91450, 91514, 134762],\n",
       " [43384, 43383, 43385, 43320, 43448, ..., 42104, 42168, 42232, 42296, 42360],\n",
       " [73809, 73808, 73810, 73553, 74065, ..., 53428, 53492, 53556, 53620, 84304],\n",
       " [73639, 73638, 73640, 73383, 73895, ..., 52874, 52938, 53002, 53066, 83880],\n",
       " [125592, 125591, 125593, 125336, 125848, ..., 126105, 102278, 102662, 102726],\n",
       " [177308, 177307, 177309, 177244, 177372, ..., 177435, 177437, 176604, 178044],\n",
       " [107868, 107867, 107869, 107804, 107932, ..., 138994, 129008, 138993, 107739],\n",
       " [24804, 24803, 24805, 24548, 25060, ..., 31464, 31209, 26088, 26087, 26089]]\n",
       "--------------------------------------------------------------------------------\n",
       "type: 839 * var * int32</pre>"
      ],
      "text/plain": [
       "<Array [[23637, 23636, 23638, ..., 12212, 22613], ...] type='839 * var * int32'>"
      ]
     },
     "execution_count": 12,
     "metadata": {},
     "output_type": "execute_result"
    }
   ],
   "source": [
    "branches['cluster_to_cell_indices'][0]"
   ]
  },
  {
   "cell_type": "code",
   "execution_count": 13,
   "id": "547f8fd5",
   "metadata": {},
   "outputs": [
    {
     "data": {
      "text/plain": [
       "839"
      ]
     },
     "execution_count": 13,
     "metadata": {},
     "output_type": "execute_result"
    }
   ],
   "source": [
    "len(branches['cluster_to_cell_indices'][0])"
   ]
  },
  {
   "cell_type": "code",
   "execution_count": 14,
   "id": "7b488a71-b509-457c-bde7-c4bc6b836cf7",
   "metadata": {},
   "outputs": [
    {
     "data": {
      "text/plain": [
       "187652"
      ]
     },
     "execution_count": 14,
     "metadata": {},
     "output_type": "execute_result"
    }
   ],
   "source": [
    "len(branches['cell_cluster_index'][0])"
   ]
  },
  {
   "cell_type": "code",
   "execution_count": 15,
   "id": "4350e856-ff4f-4b5f-840d-37e07f020662",
   "metadata": {},
   "outputs": [
    {
     "data": {
      "image/png": "[encoded data removed]",
      "text/plain": [
       "<Figure size 640x480 with 1 Axes>"
      ]
     },
     "metadata": {},
     "output_type": "display_data"
    }
   ],
   "source": [
    "_=plt.hist(branches['cell_cluster_index'][0])"
   ]
  },
  {
   "cell_type": "markdown",
   "id": "e0dda46d",
   "metadata": {},
   "source": [
    "# Preparing data with required features for 600 events"
   ]
  },
  {
   "cell_type": "code",
   "execution_count": 16,
   "id": "df3cc3cd",
   "metadata": {},
   "outputs": [],
   "source": [
    "cell_coordinate_x = extractData(branches, 'cell_x') #(100, 187652) 100 events and 187652 cells\n",
    "cell_coordinate_y = extractData(branches, 'cell_y')\n",
    "cell_coordinate_z = extractData(branches, 'cell_z')\n",
    "cell_eta = extractData(branches, 'cell_eta')\n",
    "cell_phi = extractData(branches, 'cell_phi')\n",
    "cell_subCalo = extractData(branches, 'cell_subCalo')\n",
    "cell_sampling = extractData(branches, 'cell_sampling')\n",
    "cell_weight = extractData(branches, 'cell_weight')\n",
    "cell_truth = extractData(branches, 'cell_truth')\n",
    "cell_to_cluster_e = extractData(branches, 'cell_to_cluster_e')\n",
    "cell_noiseSigma = extractData(branches, 'cell_noiseSigma')\n",
    "cell_SNR = extractData(branches, 'cell_SNR')\n",
    "cell_time = extractData(branches, 'cell_time')\n",
    "cellsNo_cluster = branches['cellsNo_cluster'] #100 events but different number of entries per event \n",
    "# Not a np array due to irregular subarray lengths\n",
    "clustersNo_event = extractData(branches, 'clustersNo_event') #(100, 1)\n",
    "cell_to_cluster_index = extractData(branches, 'cell_cluster_index')\n",
    "cell_e = extractData(branches, 'cell_e')\n",
    "cluster_to_cell_indices = branches['cluster_to_cell_indices'] # Not a np array due to irregular subarray lengths\n",
    "#100 events, but with different entries per event.\n",
    "neighbor = branches['neighbor'] # Not a np array due to irregular subarray lengths\n",
    "#100 events but with a repeating pattern of \n",
    "#[[63, 1, 26496, 26497, 26498, 26499, 64, 26751, 127, 26500, 65, 448], ...]...\n",
    "\n",
    "#Creates awkward arrays for all needed variables from the branches object"
   ]
  },
  {
   "cell_type": "code",
   "execution_count": 17,
   "id": "bfea8212-da1d-448a-ac5e-c43ebc149c5f",
   "metadata": {},
   "outputs": [],
   "source": [
    "variables = [cell_coordinate_x, cell_coordinate_y, cell_coordinate_z, cell_eta, cell_phi, cell_sampling, cell_noiseSigma, cell_e]\n",
    "generalized_range = len(cell_to_cluster_index)\n",
    "data = {}\n",
    "\n",
    "_=createDataDict(generalized_range, variables, data)"
   ]
  },
  {
   "cell_type": "code",
   "execution_count": 18,
   "id": "0aeaeb90-a721-4c3a-8b42-caf3e71dad70",
   "metadata": {},
   "outputs": [
    {
     "data": {
      "text/plain": [
       "array([[  616.83886719,    33.27997589, -3970.41845703, ...,\n",
       "            6.        ,  2000.01452637,  1153.41552734],\n",
       "       [  610.66046143,    93.48491669, -3970.41845703, ...,\n",
       "            6.        ,  2000.01428223,  -585.24676514],\n",
       "       [  598.61065674,   152.79437256, -3970.41845703, ...,\n",
       "            6.        ,  2000.01452637, -2005.09155273],\n",
       "       ...,\n",
       "       [ 2476.01391602,  -121.63833618,  3552.        , ...,\n",
       "           17.        ,   655.00445557,   318.4524231 ],\n",
       "       [ 1890.02062988,   -92.85043335,  3536.        , ...,\n",
       "           17.        ,  1548.81225586,  2088.82275391],\n",
       "       [ 1392.52062988,   -68.40991211,  3536.        , ...,\n",
       "           17.        ,   855.40997314,   474.59490967]])"
      ]
     },
     "execution_count": 18,
     "metadata": {},
     "output_type": "execute_result"
    }
   ],
   "source": [
    "data['data_0']\n",
    "# The data dictionary has 100 keys, each with a shape of (187652, 8), indicating\n",
    "# that each cell has 8 features, as noted in the for loop above."
   ]
  },
  {
   "cell_type": "code",
   "execution_count": 19,
   "id": "bc94ea6c",
   "metadata": {},
   "outputs": [
    {
     "data": {
      "text/plain": [
       "(187652, 8)"
      ]
     },
     "execution_count": 19,
     "metadata": {},
     "output_type": "execute_result"
    }
   ],
   "source": [
    "data['data_0'].shape"
   ]
  },
  {
   "cell_type": "code",
   "execution_count": 20,
   "id": "f2a364a8",
   "metadata": {},
   "outputs": [],
   "source": [
    "saveDictToHDF5(data,'/storage/mxg1065/cellFeatures_100evs.hdf5')"
   ]
  },
  {
   "cell_type": "markdown",
   "id": "b121b576",
   "metadata": {},
   "source": [
    "## preparing Neighbor Pairs"
   ]
  },
  {
   "cell_type": "code",
   "execution_count": 21,
   "id": "69cf1fa7",
   "metadata": {},
   "outputs": [
    {
     "data": {
      "text/plain": [
       "187652"
      ]
     },
     "execution_count": 21,
     "metadata": {},
     "output_type": "execute_result"
    }
   ],
   "source": [
    "neighbor = branches['neighbor'][0]\n",
    "len(neighbor) # Number of cells"
   ]
  },
  {
   "cell_type": "code",
   "execution_count": 22,
   "id": "b136cfef",
   "metadata": {},
   "outputs": [
    {
     "data": {
      "text/html": [
       "<pre>[63,\n",
       " 1,\n",
       " 26496,\n",
       " 26497,\n",
       " 26498,\n",
       " 26499,\n",
       " 64,\n",
       " 26751,\n",
       " 127,\n",
       " 26500,\n",
       " 65,\n",
       " 448]\n",
       "----------------\n",
       "type: 12 * int32</pre>"
      ],
      "text/plain": [
       "<Array [63, 1, 26496, 26497, 26498, ..., 127, 26500, 65, 448] type='12 * int32'>"
      ]
     },
     "execution_count": 22,
     "metadata": {},
     "output_type": "execute_result"
    }
   ],
   "source": [
    "neighbor[0] # ID of the cells neighboring each cell"
   ]
  },
  {
   "cell_type": "code",
   "execution_count": 23,
   "id": "6aab4c6e-b581-43d3-9fd5-6c66d5d5caf7",
   "metadata": {},
   "outputs": [],
   "source": [
    "neighborPairsSet = removeBrokenCells(cell_noiseSigma, neighbor)"
   ]
  },
  {
   "cell_type": "code",
   "execution_count": 24,
   "id": "7f10d363-966c-4347-bac8-ac36e0b1303d",
   "metadata": {},
   "outputs": [
    {
     "name": "stdout",
     "output_type": "stream",
     "text": [
      "[(0, np.int32(63)), (0, np.int32(1)), (0, np.int32(26496)), (0, np.int32(26497)), (0, np.int32(26498))]\n",
      "Length of Neighbor Pairs Set: 2500484\n"
     ]
    }
   ],
   "source": [
    "print(neighborPairsSet[:5])\n",
    "print(\"Length of Neighbor Pairs Set:\",len(neighborPairsSet))"
   ]
  },
  {
   "cell_type": "code",
   "execution_count": 25,
   "id": "567d8568",
   "metadata": {},
   "outputs": [],
   "source": [
    "#remove list_of_tuples = [(3, 1), (1, 3), (2, 4), (4, 2), (5, 6)]\n",
    "neighborPairsUnique = removePermutationVariants(neighborPairsSet)"
   ]
  },
  {
   "cell_type": "code",
   "execution_count": 26,
   "id": "8125e3de",
   "metadata": {},
   "outputs": [
    {
     "data": {
      "text/plain": [
       "1250242"
      ]
     },
     "execution_count": 26,
     "metadata": {},
     "output_type": "execute_result"
    }
   ],
   "source": [
    "len(neighborPairsUnique)"
   ]
  },
  {
   "cell_type": "code",
   "execution_count": 27,
   "id": "777a311d",
   "metadata": {},
   "outputs": [],
   "source": [
    "neighborPairsUniqueSorted = sorted(neighborPairsUnique, key=lambda x: x[0])\n",
    "# Sorts the unique neighbor pairs by the first element of each tuple"
   ]
  },
  {
   "cell_type": "code",
   "execution_count": 28,
   "id": "bd8b373c",
   "metadata": {
    "scrolled": true
   },
   "outputs": [
    {
     "data": {
      "text/plain": [
       "[(0, np.int32(26751)),\n",
       " (0, np.int32(1)),\n",
       " (0, np.int32(127)),\n",
       " (0, np.int32(26497)),\n",
       " (0, np.int32(63))]"
      ]
     },
     "execution_count": 28,
     "metadata": {},
     "output_type": "execute_result"
    }
   ],
   "source": [
    "neighborPairsUniqueSorted[:5]"
   ]
  },
  {
   "cell_type": "code",
   "execution_count": 29,
   "id": "55ba55e7-1a1d-445a-b80e-414e633da54f",
   "metadata": {},
   "outputs": [],
   "source": [
    "writeH5File('/storage/mxg1065/neighborPairsUniqueSorted.hdf5', 'neighbor_pair', neighborPairsUniqueSorted)"
   ]
  },
  {
   "cell_type": "markdown",
   "id": "55226834",
   "metadata": {},
   "source": [
    "## Loading neighbor cell pairs"
   ]
  },
  {
   "cell_type": "code",
   "execution_count": 30,
   "id": "8a0eac03-1871-4f47-986a-fb771567cbb6",
   "metadata": {},
   "outputs": [],
   "source": [
    "neighborPairsUniqueSorted = readH5File('/storage/mxg1065/neighborPairsUniqueSorted.hdf5', 'neighbor_pair')"
   ]
  },
  {
   "cell_type": "code",
   "execution_count": 31,
   "id": "a1d08de6",
   "metadata": {},
   "outputs": [
    {
     "data": {
      "text/plain": [
       "(1250242, 2)"
      ]
     },
     "execution_count": 31,
     "metadata": {},
     "output_type": "execute_result"
    }
   ],
   "source": [
    "neighborPairsUniqueSorted.shape"
   ]
  },
  {
   "cell_type": "markdown",
   "id": "2bb9a8fa",
   "metadata": {},
   "source": [
    "## Creating Labels for neighbor_pairs"
   ]
  },
  {
   "cell_type": "code",
   "execution_count": 32,
   "id": "fe81a4b0",
   "metadata": {},
   "outputs": [
    {
     "data": {
      "text/plain": [
       "(100, 187652)"
      ]
     },
     "execution_count": 32,
     "metadata": {},
     "output_type": "execute_result"
    }
   ],
   "source": [
    "cell_to_cluster_index.shape"
   ]
  },
  {
   "cell_type": "code",
   "execution_count": 33,
   "id": "20826260-7dbb-4c69-b98e-2a1b910fb58d",
   "metadata": {},
   "outputs": [],
   "source": [
    "pairsMapping = neighborPairsMapping(0,2,3,4)"
   ]
  },
  {
   "cell_type": "code",
   "execution_count": 34,
   "id": "a8c98958-08e4-4534-a4a4-59f19b7de43f",
   "metadata": {},
   "outputs": [],
   "source": [
    "true_neighbor_cluster = labelNeighborPairs(len(cell_to_cluster_index), cell_to_cluster_index, neighborPairsUniqueSorted, pairsMapping)"
   ]
  },
  {
   "cell_type": "code",
   "execution_count": 35,
   "id": "060d64fc-b9b4-4171-9985-8642807a45d6",
   "metadata": {},
   "outputs": [
    {
     "name": "stdout",
     "output_type": "stream",
     "text": [
      "[[0 0 0 ... 0 0 0]\n",
      " [0 0 0 ... 0 0 0]\n",
      " [0 0 0 ... 0 0 0]\n",
      " ...\n",
      " [0 0 0 ... 0 0 0]\n",
      " [0 0 0 ... 3 2 0]\n",
      " [1 1 1 ... 0 0 0]]\n",
      "(100, 1250242)\n"
     ]
    }
   ],
   "source": [
    "print(true_neighbor_cluster)\n",
    "print(true_neighbor_cluster.shape)"
   ]
  },
  {
   "cell_type": "code",
   "execution_count": 36,
   "id": "a501bdaf-09d8-44ae-944a-9570fe924f99",
   "metadata": {},
   "outputs": [],
   "source": [
    "writeH5File('/storage/mxg1065/neighborLabels100Events.hdf5', 'neighborLabels100Events', true_neighbor_cluster)"
   ]
  }
 ],
 "metadata": {
  "kernelspec": {
   "display_name": "Python 3 (ipykernel)",
   "language": "python",
   "name": "python3"
  },
  "language_info": {
   "codemirror_mode": {
    "name": "ipython",
    "version": 3
   },
   "file_extension": ".py",
   "mimetype": "text/x-python",
   "name": "python",
   "nbconvert_exporter": "python",
   "pygments_lexer": "ipython3",
   "version": "3.10.12"
  }
 },
 "nbformat": 4,
 "nbformat_minor": 5
}
