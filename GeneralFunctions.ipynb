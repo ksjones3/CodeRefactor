{
 "cells": [
  {
   "cell_type": "code",
   "execution_count": 1,
   "id": "7d1645cd-246a-4043-93a8-b005583d6c28",
   "metadata": {},
   "outputs": [],
   "source": [
    "import numpy as np\n",
    "import h5py\n",
    "import random\n",
    "random.seed(42)"
   ]
  },
  {
   "cell_type": "code",
   "execution_count": 2,
   "id": "1e3ab5f8-fb58-45fc-a9da-06cd2a84b7f1",
   "metadata": {},
   "outputs": [],
   "source": [
    "def removeBrokenCells(cell_noiseSigma, neighbor):\n",
    "    broken_cells = getBrokenCells(cell_noiseSigma)\n",
    "    return getNeighborPairs(broken_cells, neighbor)"
   ]
  },
  {
   "cell_type": "code",
   "execution_count": 3,
   "id": "7de949a4-aa19-4657-b4a7-4dba96bc732f",
   "metadata": {},
   "outputs": [],
   "source": [
    "def getBrokenCells(cell_noiseSigma):\n",
    "    broken_cell_indices = np.argwhere(cell_noiseSigma[0] == 0)\n",
    "    broken_cells = []\n",
    "    for arrays in broken_cell_indices:\n",
    "        for index in broken_cell_indices:\n",
    "            broken_cells.append(index)\n",
    "    return broken_cells"
   ]
  },
  {
   "cell_type": "code",
   "execution_count": 4,
   "id": "49845c41-a868-4cd0-86b5-21e9a02e96b8",
   "metadata": {},
   "outputs": [],
   "source": [
    "def getNeighborPairs(broken_cells, neighbor):\n",
    "    neighbor_pairs_set = []\n",
    "    for i in range(len(neighbor)):\n",
    "        if i in broken_cells:\n",
    "            continue\n",
    "        for cell in neighbor[i]:\n",
    "            if cell in broken_cells:\n",
    "                continue\n",
    "            neighbor_pairs_set.append(((i, cell)))\n",
    "    return neighbor_pairs_set"
   ]
  },
  {
   "cell_type": "code",
   "execution_count": 5,
   "id": "fec2d60d-a659-4fd7-b110-3875d906d53c",
   "metadata": {},
   "outputs": [],
   "source": [
    "def writeH5File(fileName, datasetName, data):\n",
    "    with h5py.File(fileName, \"w\") as f:\n",
    "        dset = f.create_dataset(datasetName, data = data)"
   ]
  },
  {
   "cell_type": "code",
   "execution_count": 6,
   "id": "533db341-9c5d-4979-a44b-d987da748ada",
   "metadata": {},
   "outputs": [],
   "source": [
    "def readH5File(fileName, datasetName):\n",
    "    file = h5py.File(fileName, \"r\")\n",
    "    data = file.get(datasetName)[:]\n",
    "    file.close()\n",
    "    return np.array(data)"
   ]
  },
  {
   "cell_type": "code",
   "execution_count": 7,
   "id": "0740953c-5aeb-4be9-889a-4e53ad00d1f1",
   "metadata": {},
   "outputs": [],
   "source": [
    "def sampleDataTraining(true, bkg_lone, bkg_cluster_lone, bkg_cluster_cluster):\n",
    "    true_sample_size, bkg_sample_size = getTrainingSampleSizes(true, bkg_lone, bkg_cluster_lone, bkg_cluster_cluster)\n",
    "    return sampleData(true, bkg_lone, bkg_cluster_lone, bkg_cluster_cluster, true_sample_size, bkg_sample_size, bkg_sample_size, bkg_sample_size)\n",
    "    "
   ]
  },
  {
   "cell_type": "code",
   "execution_count": 8,
   "id": "367745a2-4a8e-41eb-96bf-13ab271505d4",
   "metadata": {},
   "outputs": [],
   "source": [
    "def sampleDataTesting(true, bkg_lone, bkg_cluster_lone, bkg_cluster_cluster):\n",
    "    true_sample_size = getTestingSampleSize(true)\n",
    "    bkg_lone_sample_size = getTestingSampleSize(bkg_lone)\n",
    "    bkg_cluster_lone_sample_size = getTestingSampleSize(bkg_cluster_lone)\n",
    "    bkg_cluster_cluster_sample_size = getTestingSampleSize(bkg_cluster_cluster)\n",
    "    return sampleData(true, bkg_lone, bkg_cluster_lone, bkg_cluster_cluster, true_sample_size, bkg_lone_sample_size, bkg_cluster_lone_sample_size, bkg_cluster_cluster_sample_size)"
   ]
  },
  {
   "cell_type": "code",
   "execution_count": 9,
   "id": "8c0bf805-458d-4420-8089-df229844f7d4",
   "metadata": {},
   "outputs": [],
   "source": [
    "def getTestingSampleSize(data):\n",
    "    minimum = getMinimum(data)\n",
    "    sample_size = minimum - (minimum % 100)\n",
    "    return sample_size"
   ]
  },
  {
   "cell_type": "code",
   "execution_count": 10,
   "id": "7040dd54-00b2-4336-8407-91d6d62e6a3a",
   "metadata": {},
   "outputs": [],
   "source": [
    "def getMinimum(data):\n",
    "    return min([len(row) for row in data])"
   ]
  },
  {
   "cell_type": "code",
   "execution_count": 11,
   "id": "b4122db0-3377-417d-9b41-46a8eb045653",
   "metadata": {},
   "outputs": [],
   "source": [
    "def getTrainingSampleSizes(true, bkg_lone, bkg_cluster_lone, bkg_cluster_cluster):\n",
    "    true_min = getMinimum(true)\n",
    "    bkg_lone_min = getMinimum(bkg_lone)\n",
    "    bkg_cluster_lone_min = getMinimum(bkg_cluster_lone)\n",
    "    bkg_cluster_cluster_min = getMinimum(bkg_cluster_cluster)\n",
    "    bkg_min = min([bkg_lone_min, bkg_cluster_lone_min, bkg_cluster_cluster_min])\n",
    "    bkg_sample_size = bkg_min - (bkg_min % 100)\n",
    "    true_sample_size = bkg_sample_size*3\n",
    "    if true_sample_size > true_min:\n",
    "        true_sample_size = true_min - (true_min % 100)\n",
    "        true_sample_size = true_sample_size - (true_sample_size % 3)\n",
    "        bkg_sample_size = true_sample_size/3\n",
    "    return true_sample_size, bkg_sample_size"
   ]
  },
  {
   "cell_type": "code",
   "execution_count": 12,
   "id": "837e7c39-5f0b-49e8-ba25-76c3e321dcca",
   "metadata": {},
   "outputs": [],
   "source": [
    "def sampleData(true, bkg_lone, bkg_cluster_lone, bkg_cluster_cluster, true_sample_size, bkg_lone_sample_size, bkg_cluster_lone_sample_size, bkg_cluster_cluster_sample_size):\n",
    "    true_sample = sampleDataset(true, true_sample_size)\n",
    "    bkg_lone_sample = sampleDataset(bkg_lone, bkg_lone_sample_size)\n",
    "    bkg_cluster_lone_sample = sampleDataset(bkg_cluster_lone, bkg_cluster_lone_sample_size)\n",
    "    bkg_cluster_cluster_sample = sampleDataset(bkg_cluster_cluster, bkg_cluster_cluster_sample_size)\n",
    "    return np.array(true_sample), np.array(bkg_lone_sample), np.array(bkg_cluster_lone_sample), np.array(bkg_cluster_cluster_sample)"
   ]
  },
  {
   "cell_type": "code",
   "execution_count": 13,
   "id": "bb020edd-c5a3-4507-a31a-0d111a00c274",
   "metadata": {},
   "outputs": [],
   "source": [
    "def sampleDataset(data, data_sample_size):\n",
    "    return [random.sample(row, data_sample_size) for row in data]"
   ]
  },
  {
   "cell_type": "code",
   "execution_count": 14,
   "id": "3de1b0cd-9938-42fd-8e9c-3d72ed3ed6c2",
   "metadata": {},
   "outputs": [],
   "source": [
    "def createRandomIndices(total_indices_shape):\n",
    "    rand_index = []\n",
    "    for i in range(total_indices_shape[0]):\n",
    "        arr = np.arange(total_indices_shape[1])\n",
    "        np.random.shuffle(arr)\n",
    "        rand_index.append(arr)\n",
    "    return np.array(rand_index)"
   ]
  },
  {
   "cell_type": "code",
   "execution_count": 15,
   "id": "832cf9b5-0483-4325-a79c-98b1a5f5b26e",
   "metadata": {},
   "outputs": [],
   "source": [
    "def randomize2DArray(rand_indices, unrandomized_array):\n",
    "    randomized_list = []\n",
    "    for i in range(unrandomized_array.shape[0]):\n",
    "        randomized_list.append(unrandomized_array[i][rand_indices[i]])\n",
    "    return np.array(randomized_list)"
   ]
  },
  {
   "cell_type": "code",
   "execution_count": 16,
   "id": "392f3ace-e87f-4a24-a4df-9021d115e8d8",
   "metadata": {},
   "outputs": [],
   "source": [
    "def randomizeEdges(rand_indices, unrandomized_edges):\n",
    "    randomized_list = []\n",
    "    for i in range(rand_indices.shape[0]):\n",
    "        randomized_list.append(unrandomized_edges[rand_indices[i]])\n",
    "    return np.array(randomized_list)"
   ]
  },
  {
   "cell_type": "code",
   "execution_count": 17,
   "id": "f41cbaa4-0985-460b-a4dc-a65a6f504503",
   "metadata": {},
   "outputs": [],
   "source": [
    "def createEdgeArrays(inputData):\n",
    "    source_BD = []\n",
    "    dest_BD = []\n",
    "    source_noBD = []\n",
    "    dest_noBD = []\n",
    "    for i in range(inputData.shape[0]):\n",
    "        source_BD_element, dest_BD_element, source_noBD_element, dest_noBD_element = createBDAndNoBDArrays(inputData[i])\n",
    "\n",
    "        source_BD.append(source_BD_element)\n",
    "        dest_BD.append(dest_BD_element)\n",
    "        source_noBD.append(source_noBD_element)\n",
    "        dest_noBD.append(dest_noBD_element)\n",
    "    return np.array(source_BD), np.array(dest_BD), np.array(source_noBD), np.array(dest_noBD)"
   ]
  },
  {
   "cell_type": "code",
   "execution_count": 18,
   "id": "6be203e8-0099-4f8c-badf-ef4b3427908c",
   "metadata": {},
   "outputs": [],
   "source": [
    "def createBDAndNoBDArrays(inputData):\n",
    "    source_BD = []\n",
    "    dest_BD = []\n",
    "    source_noBD = []\n",
    "    dest_noBD = []\n",
    "\n",
    "    for pair in inputData:\n",
    "\n",
    "        source_BD.append(pair[0])\n",
    "        source_BD.append(pair[1])\n",
    "        \n",
    "        dest_BD.append(pair[1])\n",
    "        dest_BD.append(pair[0])\n",
    "\n",
    "        source_noBD.append(pair[0])\n",
    "        dest_noBD.append(pair[1])\n",
    "        \n",
    "    return source_BD, dest_BD, source_noBD, dest_noBD"
   ]
  }
 ],
 "metadata": {
  "kernelspec": {
   "display_name": "Python 3 (ipykernel)",
   "language": "python",
   "name": "python3"
  },
  "language_info": {
   "codemirror_mode": {
    "name": "ipython",
    "version": 3
   },
   "file_extension": ".py",
   "mimetype": "text/x-python",
   "name": "python",
   "nbconvert_exporter": "python",
   "pygments_lexer": "ipython3",
   "version": "3.10.12"
  }
 },
 "nbformat": 4,
 "nbformat_minor": 5
}
